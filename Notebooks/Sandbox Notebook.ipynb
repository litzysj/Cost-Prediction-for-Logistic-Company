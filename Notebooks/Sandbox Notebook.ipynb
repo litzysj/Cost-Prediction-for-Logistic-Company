{
 "cells": [
  {
   "cell_type": "markdown",
   "metadata": {},
   "source": [
    "# Cost Prediction for Logistic Company"
   ]
  },
  {
   "cell_type": "markdown",
   "metadata": {},
   "source": [
    "## Overview"
   ]
  },
  {
   "cell_type": "markdown",
   "metadata": {},
   "source": [
    "A one-paragraph overview of the project, including the business problem, data, methods, results and recommendations."
   ]
  },
  {
   "cell_type": "markdown",
   "metadata": {},
   "source": [
    "## Business Problem"
   ]
  },
  {
   "cell_type": "markdown",
   "metadata": {},
   "source": [
    "Summary of the business problem you are trying to solve, and the data questions that you plan to answer to solve them.\n",
    "\n",
    "Questions to consider:\n",
    "\n",
    "- Who are your stakeholders?\n",
    "    - Shippers and recievers \n",
    "- What are your stakeholders' pain points related to this project?\n",
    "    - \n",
    "- Why are your predictions important from a business perspective?\n",
    "    - The predictions are important \n",
    "- What exactly is your deliverable: your analysis, or the model itself?\n",
    "    - \n",
    "- Does your business understanding/stakeholder require a specific type of model?\n",
    "    - \n",
    "    - For example: a highly regulated industry would require a very transparent/simple/interpretable model, whereas a situation where the model itself is your deliverable would likely benefit from a more complex and thus stronger model\n",
    "Additional questions to consider for classification:\n",
    "\n",
    "- What does a false positive look like in this context?\n",
    "- What does a false negative look like in this context?\n",
    "- Which is worse for your stakeholder?\n",
    "- What metric are you focusing on optimizing, given the answers to the above questions?"
   ]
  },
  {
   "cell_type": "markdown",
   "metadata": {},
   "source": [
    "## Imports"
   ]
  },
  {
   "cell_type": "code",
   "execution_count": 772,
   "metadata": {},
   "outputs": [],
   "source": [
    "import pandas as pd\n",
    "import numpy as np \n",
    "import seaborn as sns\n",
    "import matplotlib.pyplot as plt\n",
    "import statsmodels.api as sm \n",
    "\n",
    "from datetime import datetime\n",
    "from time import strftime\n",
    "\n",
    "from sklearn.tree import DecisionTreeRegressor\n",
    "from sklearn.linear_model import LogisticRegression\n",
    "from sklearn.ensemble import RandomForestRegressor\n",
    "from sklearn.model_selection import train_test_split, cross_val_predict, TimeSeriesSplit\n",
    "from sklearn.preprocessing import LabelEncoder,  MinMaxScaler, OneHotEncoder, StandardScaler\n",
    "from sklearn.metrics import confusion_matrix, roc_curve, roc_auc_score, precision_recall_curve, recall_score, accuracy_score, classification_report"
   ]
  },
  {
   "cell_type": "markdown",
   "metadata": {},
   "source": [
    "## Data Understanding"
   ]
  },
  {
   "cell_type": "markdown",
   "metadata": {},
   "source": [
    "Describe the data being used for this project.\n",
    "\n",
    "Questions to consider:\n",
    "\n",
    "- Where did the data come from, and how do they relate to the data analysis questions?\n",
    "- What do the data represent? Who is in the sample and what variables are included?\n",
    "- What is the target variable?\n",
    "- What are the properties of the variables you intend to use?"
   ]
  },
  {
   "cell_type": "markdown",
   "metadata": {},
   "source": [
    "### Exploring data"
   ]
  },
  {
   "cell_type": "code",
   "execution_count": 643,
   "metadata": {
    "scrolled": true
   },
   "outputs": [
    {
     "name": "stdout",
     "output_type": "stream",
     "text": [
      "test.csv  train.csv\r\n"
     ]
    }
   ],
   "source": [
    "!ls ../data/"
   ]
  },
  {
   "cell_type": "code",
   "execution_count": 861,
   "metadata": {},
   "outputs": [],
   "source": [
    "# setting data to variable \n",
    "df = pd.read_csv('../data/train.csv')"
   ]
  },
  {
   "cell_type": "code",
   "execution_count": 862,
   "metadata": {},
   "outputs": [
    {
     "data": {
      "text/plain": [
       "38999"
      ]
     },
     "execution_count": 862,
     "metadata": {},
     "output_type": "execute_result"
    }
   ],
   "source": [
    "# Beginning amount of df rows\n",
    "len(df)"
   ]
  },
  {
   "cell_type": "code",
   "execution_count": 863,
   "metadata": {},
   "outputs": [
    {
     "name": "stdout",
     "output_type": "stream",
     "text": [
      "<class 'pandas.core.frame.DataFrame'>\n",
      "RangeIndex: 38999 entries, 0 to 38998\n",
      "Data columns (total 12 columns):\n",
      " #   Column               Non-Null Count  Dtype  \n",
      "---  ------               --------------  -----  \n",
      " 0   trip                 38999 non-null  object \n",
      " 1   date                 38999 non-null  object \n",
      " 2   dayPart              38999 non-null  object \n",
      " 3   exWeatherTag         4882 non-null   object \n",
      " 4   originLocation       38999 non-null  object \n",
      " 5   destinationLocation  38999 non-null  object \n",
      " 6   distance             38999 non-null  int64  \n",
      " 7   type                 3748 non-null   object \n",
      " 8   weight               38999 non-null  int64  \n",
      " 9   packageType          2500 non-null   object \n",
      " 10  carrier              38999 non-null  object \n",
      " 11  cost                 38999 non-null  float64\n",
      "dtypes: float64(1), int64(2), object(9)\n",
      "memory usage: 3.6+ MB\n"
     ]
    }
   ],
   "source": [
    "df.info()"
   ]
  },
  {
   "cell_type": "code",
   "execution_count": 864,
   "metadata": {},
   "outputs": [
    {
     "data": {
      "text/plain": [
       "0        68.413152\n",
       "1        36.450649\n",
       "2         9.057939\n",
       "3        57.320087\n",
       "4        77.263777\n",
       "           ...    \n",
       "38994    14.987239\n",
       "38995    33.214738\n",
       "38996    45.172159\n",
       "38997    47.541427\n",
       "38998    68.054098\n",
       "Name: cost, Length: 38999, dtype: float64"
      ]
     },
     "execution_count": 864,
     "metadata": {},
     "output_type": "execute_result"
    }
   ],
   "source": [
    "df['cost']"
   ]
  },
  {
   "cell_type": "code",
   "execution_count": 865,
   "metadata": {},
   "outputs": [
    {
     "data": {
      "text/plain": [
       "<AxesSubplot:ylabel='Frequency'>"
      ]
     },
     "execution_count": 865,
     "metadata": {},
     "output_type": "execute_result"
    },
    {
     "data": {
      "image/png": "[encoded data removed]",
      "text/plain": [
       "<Figure size 432x288 with 1 Axes>"
      ]
     },
     "metadata": {
      "needs_background": "light"
     },
     "output_type": "display_data"
    }
   ],
   "source": [
    "df['cost'].plot(kind='hist', bins=20)"
   ]
  },
  {
   "cell_type": "code",
   "execution_count": 866,
   "metadata": {
    "scrolled": true
   },
   "outputs": [
    {
     "data": {
      "text/plain": [
       "count    38999.000000\n",
       "mean        80.972210\n",
       "std        180.715055\n",
       "min          5.000000\n",
       "25%         38.768742\n",
       "50%         46.468476\n",
       "75%         70.239797\n",
       "max       2019.734797\n",
       "Name: cost, dtype: float64"
      ]
     },
     "execution_count": 866,
     "metadata": {},
     "output_type": "execute_result"
    }
   ],
   "source": [
    "df['cost'].describe()"
   ]
  },
  {
   "cell_type": "code",
   "execution_count": 867,
   "metadata": {
    "scrolled": true
   },
   "outputs": [
    {
     "data": {
      "text/plain": [
       "RangeIndex(start=0, stop=38999, step=1)"
      ]
     },
     "execution_count": 867,
     "metadata": {},
     "output_type": "execute_result"
    }
   ],
   "source": [
    "df['trip'].keys()"
   ]
  },
  {
   "cell_type": "code",
   "execution_count": 868,
   "metadata": {},
   "outputs": [
    {
     "data": {
      "text/html": [
       "<div>\n",
       "<style scoped>\n",
       "    .dataframe tbody tr th:only-of-type {\n",
       "        vertical-align: middle;\n",
       "    }\n",
       "\n",
       "    .dataframe tbody tr th {\n",
       "        vertical-align: top;\n",
       "    }\n",
       "\n",
       "    .dataframe thead th {\n",
       "        text-align: right;\n",
       "    }\n",
       "</style>\n",
       "<table border=\"1\" class=\"dataframe\">\n",
       "  <thead>\n",
       "    <tr style=\"text-align: right;\">\n",
       "      <th></th>\n",
       "      <th>trip</th>\n",
       "      <th>date</th>\n",
       "      <th>dayPart</th>\n",
       "      <th>exWeatherTag</th>\n",
       "      <th>originLocation</th>\n",
       "      <th>destinationLocation</th>\n",
       "      <th>distance</th>\n",
       "      <th>type</th>\n",
       "      <th>weight</th>\n",
       "      <th>packageType</th>\n",
       "      <th>carrier</th>\n",
       "      <th>cost</th>\n",
       "    </tr>\n",
       "  </thead>\n",
       "  <tbody>\n",
       "    <tr>\n",
       "      <th>0</th>\n",
       "      <td>t52712528</td>\n",
       "      <td>2017-09-06</td>\n",
       "      <td>night</td>\n",
       "      <td>NaN</td>\n",
       "      <td>S4</td>\n",
       "      <td>D7</td>\n",
       "      <td>2200</td>\n",
       "      <td>expedited</td>\n",
       "      <td>50</td>\n",
       "      <td>NaN</td>\n",
       "      <td>D</td>\n",
       "      <td>68.413152</td>\n",
       "    </tr>\n",
       "    <tr>\n",
       "      <th>1</th>\n",
       "      <td>t29859381</td>\n",
       "      <td>2017-10-21</td>\n",
       "      <td>night</td>\n",
       "      <td>NaN</td>\n",
       "      <td>S8</td>\n",
       "      <td>D1</td>\n",
       "      <td>1800</td>\n",
       "      <td>NaN</td>\n",
       "      <td>12</td>\n",
       "      <td>NaN</td>\n",
       "      <td>B</td>\n",
       "      <td>36.450649</td>\n",
       "    </tr>\n",
       "    <tr>\n",
       "      <th>2</th>\n",
       "      <td>t25702332</td>\n",
       "      <td>2017-07-15</td>\n",
       "      <td>night</td>\n",
       "      <td>NaN</td>\n",
       "      <td>S9</td>\n",
       "      <td>D5</td>\n",
       "      <td>2800</td>\n",
       "      <td>NaN</td>\n",
       "      <td>1</td>\n",
       "      <td>NaN</td>\n",
       "      <td>B</td>\n",
       "      <td>9.057939</td>\n",
       "    </tr>\n",
       "    <tr>\n",
       "      <th>3</th>\n",
       "      <td>t27713405</td>\n",
       "      <td>2017-10-22</td>\n",
       "      <td>day</td>\n",
       "      <td>NaN</td>\n",
       "      <td>S9</td>\n",
       "      <td>D7</td>\n",
       "      <td>3200</td>\n",
       "      <td>NaN</td>\n",
       "      <td>50</td>\n",
       "      <td>NaN</td>\n",
       "      <td>C</td>\n",
       "      <td>57.320087</td>\n",
       "    </tr>\n",
       "    <tr>\n",
       "      <th>4</th>\n",
       "      <td>t49439220</td>\n",
       "      <td>2019-12-11</td>\n",
       "      <td>day</td>\n",
       "      <td>snow</td>\n",
       "      <td>S9</td>\n",
       "      <td>D1</td>\n",
       "      <td>2000</td>\n",
       "      <td>NaN</td>\n",
       "      <td>43</td>\n",
       "      <td>NaN</td>\n",
       "      <td>B</td>\n",
       "      <td>77.263777</td>\n",
       "    </tr>\n",
       "    <tr>\n",
       "      <th>...</th>\n",
       "      <td>...</td>\n",
       "      <td>...</td>\n",
       "      <td>...</td>\n",
       "      <td>...</td>\n",
       "      <td>...</td>\n",
       "      <td>...</td>\n",
       "      <td>...</td>\n",
       "      <td>...</td>\n",
       "      <td>...</td>\n",
       "      <td>...</td>\n",
       "      <td>...</td>\n",
       "      <td>...</td>\n",
       "    </tr>\n",
       "    <tr>\n",
       "      <th>38994</th>\n",
       "      <td>t11845608590</td>\n",
       "      <td>2019-10-17</td>\n",
       "      <td>night</td>\n",
       "      <td>NaN</td>\n",
       "      <td>S3</td>\n",
       "      <td>D3</td>\n",
       "      <td>1200</td>\n",
       "      <td>NaN</td>\n",
       "      <td>3</td>\n",
       "      <td>NaN</td>\n",
       "      <td>B</td>\n",
       "      <td>14.987239</td>\n",
       "    </tr>\n",
       "    <tr>\n",
       "      <th>38995</th>\n",
       "      <td>t53557166488</td>\n",
       "      <td>2019-01-23</td>\n",
       "      <td>night</td>\n",
       "      <td>NaN</td>\n",
       "      <td>S4</td>\n",
       "      <td>D6</td>\n",
       "      <td>2000</td>\n",
       "      <td>NaN</td>\n",
       "      <td>6</td>\n",
       "      <td>NaN</td>\n",
       "      <td>B</td>\n",
       "      <td>33.214738</td>\n",
       "    </tr>\n",
       "    <tr>\n",
       "      <th>38996</th>\n",
       "      <td>t337474787136</td>\n",
       "      <td>2018-10-03</td>\n",
       "      <td>night</td>\n",
       "      <td>NaN</td>\n",
       "      <td>S8</td>\n",
       "      <td>D7</td>\n",
       "      <td>3000</td>\n",
       "      <td>NaN</td>\n",
       "      <td>24</td>\n",
       "      <td>NaN</td>\n",
       "      <td>B</td>\n",
       "      <td>45.172159</td>\n",
       "    </tr>\n",
       "    <tr>\n",
       "      <th>38997</th>\n",
       "      <td>t76488353326</td>\n",
       "      <td>2018-02-26</td>\n",
       "      <td>night</td>\n",
       "      <td>NaN</td>\n",
       "      <td>S8</td>\n",
       "      <td>D5</td>\n",
       "      <td>2600</td>\n",
       "      <td>NaN</td>\n",
       "      <td>31</td>\n",
       "      <td>NaN</td>\n",
       "      <td>B</td>\n",
       "      <td>47.541427</td>\n",
       "    </tr>\n",
       "    <tr>\n",
       "      <th>38998</th>\n",
       "      <td>t33300084668</td>\n",
       "      <td>2017-07-30</td>\n",
       "      <td>night</td>\n",
       "      <td>NaN</td>\n",
       "      <td>S8</td>\n",
       "      <td>D8</td>\n",
       "      <td>3200</td>\n",
       "      <td>NaN</td>\n",
       "      <td>36</td>\n",
       "      <td>NaN</td>\n",
       "      <td>B</td>\n",
       "      <td>68.054098</td>\n",
       "    </tr>\n",
       "  </tbody>\n",
       "</table>\n",
       "<p>38999 rows × 12 columns</p>\n",
       "</div>"
      ],
      "text/plain": [
       "                trip        date dayPart exWeatherTag originLocation  \\\n",
       "0          t52712528  2017-09-06   night          NaN             S4   \n",
       "1          t29859381  2017-10-21   night          NaN             S8   \n",
       "2          t25702332  2017-07-15   night          NaN             S9   \n",
       "3          t27713405  2017-10-22     day          NaN             S9   \n",
       "4          t49439220  2019-12-11     day         snow             S9   \n",
       "...              ...         ...     ...          ...            ...   \n",
       "38994   t11845608590  2019-10-17   night          NaN             S3   \n",
       "38995   t53557166488  2019-01-23   night          NaN             S4   \n",
       "38996  t337474787136  2018-10-03   night          NaN             S8   \n",
       "38997   t76488353326  2018-02-26   night          NaN             S8   \n",
       "38998   t33300084668  2017-07-30   night          NaN             S8   \n",
       "\n",
       "      destinationLocation  distance       type  weight packageType carrier  \\\n",
       "0                      D7      2200  expedited      50         NaN       D   \n",
       "1                      D1      1800        NaN      12         NaN       B   \n",
       "2                      D5      2800        NaN       1         NaN       B   \n",
       "3                      D7      3200        NaN      50         NaN       C   \n",
       "4                      D1      2000        NaN      43         NaN       B   \n",
       "...                   ...       ...        ...     ...         ...     ...   \n",
       "38994                  D3      1200        NaN       3         NaN       B   \n",
       "38995                  D6      2000        NaN       6         NaN       B   \n",
       "38996                  D7      3000        NaN      24         NaN       B   \n",
       "38997                  D5      2600        NaN      31         NaN       B   \n",
       "38998                  D8      3200        NaN      36         NaN       B   \n",
       "\n",
       "            cost  \n",
       "0      68.413152  \n",
       "1      36.450649  \n",
       "2       9.057939  \n",
       "3      57.320087  \n",
       "4      77.263777  \n",
       "...          ...  \n",
       "38994  14.987239  \n",
       "38995  33.214738  \n",
       "38996  45.172159  \n",
       "38997  47.541427  \n",
       "38998  68.054098  \n",
       "\n",
       "[38999 rows x 12 columns]"
      ]
     },
     "execution_count": 868,
     "metadata": {},
     "output_type": "execute_result"
    }
   ],
   "source": [
    "df"
   ]
  },
  {
   "cell_type": "markdown",
   "metadata": {},
   "source": [
    "## Data Engineering"
   ]
  },
  {
   "cell_type": "markdown",
   "metadata": {},
   "source": [
    "Describe and justify the process for preparing the data for analysis.\n",
    "\n",
    "Questions to consider:\n",
    "\n",
    "- Were there variables you dropped or created?\n",
    "    - Dropped : 'exWeatherTag'\n",
    "- How did you address missing values or outliers?\n",
    "- Why are these choices appropriate given the data and the business problem?\n",
    "- Can you pipeline your preparation steps to use them consistently in the modeling process?"
   ]
  },
  {
   "cell_type": "code",
   "execution_count": 869,
   "metadata": {
    "scrolled": true
   },
   "outputs": [
    {
     "data": {
      "text/plain": [
       "array([nan, 'snow', 'heat'], dtype=object)"
      ]
     },
     "execution_count": 869,
     "metadata": {},
     "output_type": "execute_result"
    }
   ],
   "source": [
    "df['exWeatherTag'].unique()"
   ]
  },
  {
   "cell_type": "code",
   "execution_count": 870,
   "metadata": {
    "scrolled": true
   },
   "outputs": [
    {
     "data": {
      "text/plain": [
       "snow    3286\n",
       "heat    1596\n",
       "Name: exWeatherTag, dtype: int64"
      ]
     },
     "execution_count": 870,
     "metadata": {},
     "output_type": "execute_result"
    }
   ],
   "source": [
    "df['exWeatherTag'].value_counts()"
   ]
  },
  {
   "cell_type": "code",
   "execution_count": 871,
   "metadata": {},
   "outputs": [],
   "source": [
    "# converting values in clean_df['exWeatherTag'] into binary\n",
    "# df.dayPart[df.dayPart == 'Nan'] = 0\n",
    "# df.dayPart[df.dayPart == 'day'] = 1\n",
    "# df.dayPart[df.dayPart == 'day'] = 2"
   ]
  },
  {
   "cell_type": "code",
   "execution_count": 872,
   "metadata": {},
   "outputs": [],
   "source": [
    "# dropping columns\n",
    "clean_df = df.drop(columns=['exWeatherTag', 'date'])"
   ]
  },
  {
   "cell_type": "code",
   "execution_count": 873,
   "metadata": {},
   "outputs": [],
   "source": [
    "# code here to prepare your data"
   ]
  },
  {
   "cell_type": "code",
   "execution_count": 874,
   "metadata": {
    "scrolled": true
   },
   "outputs": [],
   "source": [
    "# removing 't' from trip column\n",
    "clean_df['trip'] = clean_df[\"trip\"].str[1:]"
   ]
  },
  {
   "cell_type": "code",
   "execution_count": 875,
   "metadata": {
    "scrolled": true
   },
   "outputs": [],
   "source": [
    "# Converting clean_df['date'] into float\n",
    "# clean_df['date'].apply(lambda x: float(x))"
   ]
  },
  {
   "cell_type": "code",
   "execution_count": 876,
   "metadata": {},
   "outputs": [],
   "source": [
    "# pd.to_numeric(clean_df['date'], errors='raise')"
   ]
  },
  {
   "cell_type": "code",
   "execution_count": 877,
   "metadata": {},
   "outputs": [],
   "source": [
    "#clean_df['date'] = pd.to_datetime(df.time_hour)\n",
    "#df.drop(columns=['year', 'month', 'day', 'hour', 'time_hour'], inplace=True)\n",
    "#df.head()"
   ]
  },
  {
   "cell_type": "code",
   "execution_count": 878,
   "metadata": {
    "scrolled": false
   },
   "outputs": [],
   "source": [
    "# pd.to_datetime(clean_df.time_hour['date'])"
   ]
  },
  {
   "cell_type": "code",
   "execution_count": 879,
   "metadata": {
    "scrolled": true
   },
   "outputs": [],
   "source": [
    "#clean_df['month'] = clean_df['date'].dt.month"
   ]
  },
  {
   "cell_type": "code",
   "execution_count": 880,
   "metadata": {},
   "outputs": [],
   "source": [
    "#clean_df['DOW'] = clean_df['date'].dt.dayofweek"
   ]
  },
  {
   "cell_type": "code",
   "execution_count": 881,
   "metadata": {},
   "outputs": [
    {
     "name": "stderr",
     "output_type": "stream",
     "text": [
      "<ipython-input-881-348d2d4a00eb>:2: SettingWithCopyWarning: \n",
      "A value is trying to be set on a copy of a slice from a DataFrame\n",
      "\n",
      "See the caveats in the documentation: https://pandas.pydata.org/pandas-docs/stable/user_guide/indexing.html#returning-a-view-versus-a-copy\n",
      "  clean_df.dayPart[clean_df.dayPart == 'night'] = 1\n",
      "<ipython-input-881-348d2d4a00eb>:3: SettingWithCopyWarning: \n",
      "A value is trying to be set on a copy of a slice from a DataFrame\n",
      "\n",
      "See the caveats in the documentation: https://pandas.pydata.org/pandas-docs/stable/user_guide/indexing.html#returning-a-view-versus-a-copy\n",
      "  clean_df.dayPart[clean_df.dayPart == 'day'] = 0\n"
     ]
    }
   ],
   "source": [
    "# Turning values in clean_df['dayPart'] to binary\n",
    "clean_df.dayPart[clean_df.dayPart == 'night'] = 1\n",
    "clean_df.dayPart[clean_df.dayPart == 'day'] = 0"
   ]
  },
  {
   "cell_type": "code",
   "execution_count": 882,
   "metadata": {},
   "outputs": [
    {
     "data": {
      "text/plain": [
       "0        1\n",
       "1        1\n",
       "2        1\n",
       "3        0\n",
       "4        0\n",
       "        ..\n",
       "38994    1\n",
       "38995    1\n",
       "38996    1\n",
       "38997    1\n",
       "38998    1\n",
       "Name: dayPart, Length: 38999, dtype: object"
      ]
     },
     "execution_count": 882,
     "metadata": {},
     "output_type": "execute_result"
    }
   ],
   "source": [
    "clean_df['dayPart']"
   ]
  },
  {
   "cell_type": "code",
   "execution_count": 883,
   "metadata": {
    "scrolled": true
   },
   "outputs": [
    {
     "data": {
      "text/plain": [
       "1    25904\n",
       "0    13095\n",
       "Name: dayPart, dtype: int64"
      ]
     },
     "execution_count": 883,
     "metadata": {},
     "output_type": "execute_result"
    }
   ],
   "source": [
    "clean_df['dayPart'].value_counts()"
   ]
  },
  {
   "cell_type": "code",
   "execution_count": 884,
   "metadata": {},
   "outputs": [
    {
     "data": {
      "text/plain": [
       "3748"
      ]
     },
     "execution_count": 884,
     "metadata": {},
     "output_type": "execute_result"
    }
   ],
   "source": [
    "# amount of values in df['type'] column\n",
    "clean_df.type.value_counts().expedited"
   ]
  },
  {
   "cell_type": "code",
   "execution_count": 885,
   "metadata": {
    "scrolled": true
   },
   "outputs": [
    {
     "data": {
      "text/plain": [
       "array(['expedited', nan], dtype=object)"
      ]
     },
     "execution_count": 885,
     "metadata": {},
     "output_type": "execute_result"
    }
   ],
   "source": [
    "clean_df['type'].unique()"
   ]
  },
  {
   "cell_type": "code",
   "execution_count": 886,
   "metadata": {
    "scrolled": true
   },
   "outputs": [
    {
     "data": {
      "text/plain": [
       "array(['S4', 'S8', 'S9', 'S6', 'S7', 'S3', 'S5', 'S1', 'S2'], dtype=object)"
      ]
     },
     "execution_count": 886,
     "metadata": {},
     "output_type": "execute_result"
    }
   ],
   "source": [
    "clean_df['originLocation'].unique()"
   ]
  },
  {
   "cell_type": "code",
   "execution_count": 887,
   "metadata": {},
   "outputs": [
    {
     "data": {
      "text/plain": [
       "S3    4461\n",
       "S5    4388\n",
       "S6    4379\n",
       "S8    4368\n",
       "S4    4324\n",
       "S1    4312\n",
       "S9    4302\n",
       "S7    4267\n",
       "S2    4198\n",
       "Name: originLocation, dtype: int64"
      ]
     },
     "execution_count": 887,
     "metadata": {},
     "output_type": "execute_result"
    }
   ],
   "source": [
    "clean_df['originLocation'].value_counts()"
   ]
  },
  {
   "cell_type": "code",
   "execution_count": 888,
   "metadata": {},
   "outputs": [
    {
     "name": "stderr",
     "output_type": "stream",
     "text": [
      "<ipython-input-888-4f36c573145e>:2: SettingWithCopyWarning: \n",
      "A value is trying to be set on a copy of a slice from a DataFrame\n",
      "\n",
      "See the caveats in the documentation: https://pandas.pydata.org/pandas-docs/stable/user_guide/indexing.html#returning-a-view-versus-a-copy\n",
      "  clean_df.originLocation[clean_df.originLocation == 'S1'] = 1\n",
      "<ipython-input-888-4f36c573145e>:3: SettingWithCopyWarning: \n",
      "A value is trying to be set on a copy of a slice from a DataFrame\n",
      "\n",
      "See the caveats in the documentation: https://pandas.pydata.org/pandas-docs/stable/user_guide/indexing.html#returning-a-view-versus-a-copy\n",
      "  clean_df.originLocation[clean_df.originLocation == 'S2'] = 2\n",
      "<ipython-input-888-4f36c573145e>:4: SettingWithCopyWarning: \n",
      "A value is trying to be set on a copy of a slice from a DataFrame\n",
      "\n",
      "See the caveats in the documentation: https://pandas.pydata.org/pandas-docs/stable/user_guide/indexing.html#returning-a-view-versus-a-copy\n",
      "  clean_df.originLocation[clean_df.originLocation == 'S3'] = 3\n",
      "<ipython-input-888-4f36c573145e>:5: SettingWithCopyWarning: \n",
      "A value is trying to be set on a copy of a slice from a DataFrame\n",
      "\n",
      "See the caveats in the documentation: https://pandas.pydata.org/pandas-docs/stable/user_guide/indexing.html#returning-a-view-versus-a-copy\n",
      "  clean_df.originLocation[clean_df.originLocation == 'S4'] = 4\n",
      "<ipython-input-888-4f36c573145e>:6: SettingWithCopyWarning: \n",
      "A value is trying to be set on a copy of a slice from a DataFrame\n",
      "\n",
      "See the caveats in the documentation: https://pandas.pydata.org/pandas-docs/stable/user_guide/indexing.html#returning-a-view-versus-a-copy\n",
      "  clean_df.originLocation[clean_df.originLocation == 'S5'] = 5\n",
      "<ipython-input-888-4f36c573145e>:7: SettingWithCopyWarning: \n",
      "A value is trying to be set on a copy of a slice from a DataFrame\n",
      "\n",
      "See the caveats in the documentation: https://pandas.pydata.org/pandas-docs/stable/user_guide/indexing.html#returning-a-view-versus-a-copy\n",
      "  clean_df.originLocation[clean_df.originLocation == 'S6'] = 6\n",
      "<ipython-input-888-4f36c573145e>:8: SettingWithCopyWarning: \n",
      "A value is trying to be set on a copy of a slice from a DataFrame\n",
      "\n",
      "See the caveats in the documentation: https://pandas.pydata.org/pandas-docs/stable/user_guide/indexing.html#returning-a-view-versus-a-copy\n",
      "  clean_df.originLocation[clean_df.originLocation == 'S7'] = 7\n",
      "<ipython-input-888-4f36c573145e>:9: SettingWithCopyWarning: \n",
      "A value is trying to be set on a copy of a slice from a DataFrame\n",
      "\n",
      "See the caveats in the documentation: https://pandas.pydata.org/pandas-docs/stable/user_guide/indexing.html#returning-a-view-versus-a-copy\n",
      "  clean_df.originLocation[clean_df.originLocation == 'S8'] = 8\n",
      "<ipython-input-888-4f36c573145e>:10: SettingWithCopyWarning: \n",
      "A value is trying to be set on a copy of a slice from a DataFrame\n",
      "\n",
      "See the caveats in the documentation: https://pandas.pydata.org/pandas-docs/stable/user_guide/indexing.html#returning-a-view-versus-a-copy\n",
      "  clean_df.originLocation[clean_df.originLocation == 'S9'] = 9\n"
     ]
    }
   ],
   "source": [
    "# Turning values in clean_df['originLocation'] to binary\n",
    "clean_df.originLocation[clean_df.originLocation == 'S1'] = 1\n",
    "clean_df.originLocation[clean_df.originLocation == 'S2'] = 2\n",
    "clean_df.originLocation[clean_df.originLocation == 'S3'] = 3\n",
    "clean_df.originLocation[clean_df.originLocation == 'S4'] = 4\n",
    "clean_df.originLocation[clean_df.originLocation == 'S5'] = 5\n",
    "clean_df.originLocation[clean_df.originLocation == 'S6'] = 6\n",
    "clean_df.originLocation[clean_df.originLocation == 'S7'] = 7\n",
    "clean_df.originLocation[clean_df.originLocation == 'S8'] = 8\n",
    "clean_df.originLocation[clean_df.originLocation == 'S9'] = 9"
   ]
  },
  {
   "cell_type": "code",
   "execution_count": 889,
   "metadata": {},
   "outputs": [
    {
     "data": {
      "text/plain": [
       "array(['D7', 'D1', 'D5', 'D4', 'D2', 'D9', 'D6', 'D3', 'D8'], dtype=object)"
      ]
     },
     "execution_count": 889,
     "metadata": {},
     "output_type": "execute_result"
    }
   ],
   "source": [
    "clean_df['destinationLocation'].unique()"
   ]
  },
  {
   "cell_type": "code",
   "execution_count": 890,
   "metadata": {},
   "outputs": [
    {
     "data": {
      "text/plain": [
       "4297"
      ]
     },
     "execution_count": 890,
     "metadata": {},
     "output_type": "execute_result"
    }
   ],
   "source": [
    "clean_df['destinationLocation'].value_counts().D7"
   ]
  },
  {
   "cell_type": "code",
   "execution_count": 891,
   "metadata": {},
   "outputs": [
    {
     "name": "stderr",
     "output_type": "stream",
     "text": [
      "<ipython-input-891-ba9753200eac>:2: SettingWithCopyWarning: \n",
      "A value is trying to be set on a copy of a slice from a DataFrame\n",
      "\n",
      "See the caveats in the documentation: https://pandas.pydata.org/pandas-docs/stable/user_guide/indexing.html#returning-a-view-versus-a-copy\n",
      "  clean_df.destinationLocation[clean_df.destinationLocation == 'D1'] = 1\n",
      "<ipython-input-891-ba9753200eac>:3: SettingWithCopyWarning: \n",
      "A value is trying to be set on a copy of a slice from a DataFrame\n",
      "\n",
      "See the caveats in the documentation: https://pandas.pydata.org/pandas-docs/stable/user_guide/indexing.html#returning-a-view-versus-a-copy\n",
      "  clean_df.destinationLocation[clean_df.destinationLocation == 'D2'] = 2\n",
      "<ipython-input-891-ba9753200eac>:4: SettingWithCopyWarning: \n",
      "A value is trying to be set on a copy of a slice from a DataFrame\n",
      "\n",
      "See the caveats in the documentation: https://pandas.pydata.org/pandas-docs/stable/user_guide/indexing.html#returning-a-view-versus-a-copy\n",
      "  clean_df.destinationLocation[clean_df.destinationLocation == 'D3'] = 3\n",
      "<ipython-input-891-ba9753200eac>:5: SettingWithCopyWarning: \n",
      "A value is trying to be set on a copy of a slice from a DataFrame\n",
      "\n",
      "See the caveats in the documentation: https://pandas.pydata.org/pandas-docs/stable/user_guide/indexing.html#returning-a-view-versus-a-copy\n",
      "  clean_df.destinationLocation[clean_df.destinationLocation == 'D4'] = 4\n",
      "<ipython-input-891-ba9753200eac>:6: SettingWithCopyWarning: \n",
      "A value is trying to be set on a copy of a slice from a DataFrame\n",
      "\n",
      "See the caveats in the documentation: https://pandas.pydata.org/pandas-docs/stable/user_guide/indexing.html#returning-a-view-versus-a-copy\n",
      "  clean_df.destinationLocation[clean_df.destinationLocation == 'D5'] = 5\n",
      "<ipython-input-891-ba9753200eac>:7: SettingWithCopyWarning: \n",
      "A value is trying to be set on a copy of a slice from a DataFrame\n",
      "\n",
      "See the caveats in the documentation: https://pandas.pydata.org/pandas-docs/stable/user_guide/indexing.html#returning-a-view-versus-a-copy\n",
      "  clean_df.destinationLocation[clean_df.destinationLocation == 'D6'] = 6\n",
      "<ipython-input-891-ba9753200eac>:8: SettingWithCopyWarning: \n",
      "A value is trying to be set on a copy of a slice from a DataFrame\n",
      "\n",
      "See the caveats in the documentation: https://pandas.pydata.org/pandas-docs/stable/user_guide/indexing.html#returning-a-view-versus-a-copy\n",
      "  clean_df.destinationLocation[clean_df.destinationLocation == 'D7'] = 7\n",
      "<ipython-input-891-ba9753200eac>:9: SettingWithCopyWarning: \n",
      "A value is trying to be set on a copy of a slice from a DataFrame\n",
      "\n",
      "See the caveats in the documentation: https://pandas.pydata.org/pandas-docs/stable/user_guide/indexing.html#returning-a-view-versus-a-copy\n",
      "  clean_df.destinationLocation[clean_df.destinationLocation == 'D8'] = 8\n",
      "<ipython-input-891-ba9753200eac>:10: SettingWithCopyWarning: \n",
      "A value is trying to be set on a copy of a slice from a DataFrame\n",
      "\n",
      "See the caveats in the documentation: https://pandas.pydata.org/pandas-docs/stable/user_guide/indexing.html#returning-a-view-versus-a-copy\n",
      "  clean_df.destinationLocation[clean_df.destinationLocation == 'D9'] = 9\n"
     ]
    }
   ],
   "source": [
    "# Turning values in clean_df['destinationLocation'] to binary\n",
    "clean_df.destinationLocation[clean_df.destinationLocation == 'D1'] = 1\n",
    "clean_df.destinationLocation[clean_df.destinationLocation == 'D2'] = 2\n",
    "clean_df.destinationLocation[clean_df.destinationLocation == 'D3'] = 3\n",
    "clean_df.destinationLocation[clean_df.destinationLocation == 'D4'] = 4\n",
    "clean_df.destinationLocation[clean_df.destinationLocation == 'D5'] = 5\n",
    "clean_df.destinationLocation[clean_df.destinationLocation == 'D6'] = 6\n",
    "clean_df.destinationLocation[clean_df.destinationLocation == 'D7'] = 7\n",
    "clean_df.destinationLocation[clean_df.destinationLocation == 'D8'] = 8\n",
    "clean_df.destinationLocation[clean_df.destinationLocation == 'D9'] = 9"
   ]
  },
  {
   "cell_type": "code",
   "execution_count": 892,
   "metadata": {},
   "outputs": [
    {
     "data": {
      "text/plain": [
       "array(['expedited', nan], dtype=object)"
      ]
     },
     "execution_count": 892,
     "metadata": {},
     "output_type": "execute_result"
    }
   ],
   "source": [
    "clean_df['type'].unique()"
   ]
  },
  {
   "cell_type": "code",
   "execution_count": 893,
   "metadata": {},
   "outputs": [
    {
     "name": "stderr",
     "output_type": "stream",
     "text": [
      "<ipython-input-893-1ca7a4560a03>:2: SettingWithCopyWarning: \n",
      "A value is trying to be set on a copy of a slice from a DataFrame\n",
      "\n",
      "See the caveats in the documentation: https://pandas.pydata.org/pandas-docs/stable/user_guide/indexing.html#returning-a-view-versus-a-copy\n",
      "  clean_df.type[clean_df.type == 'nan'] = 0\n",
      "<ipython-input-893-1ca7a4560a03>:3: SettingWithCopyWarning: \n",
      "A value is trying to be set on a copy of a slice from a DataFrame\n",
      "\n",
      "See the caveats in the documentation: https://pandas.pydata.org/pandas-docs/stable/user_guide/indexing.html#returning-a-view-versus-a-copy\n",
      "  clean_df.type[clean_df.type == 'expedited'] = 1\n"
     ]
    }
   ],
   "source": [
    "# Turning values in clean_df['type'] to binary\n",
    "clean_df.type[clean_df.type == 'nan'] = 0\n",
    "clean_df.type[clean_df.type == 'expedited'] = 1"
   ]
  },
  {
   "cell_type": "code",
   "execution_count": 894,
   "metadata": {
    "scrolled": true
   },
   "outputs": [
    {
     "data": {
      "text/plain": [
       "array([nan, 'TT'], dtype=object)"
      ]
     },
     "execution_count": 894,
     "metadata": {},
     "output_type": "execute_result"
    }
   ],
   "source": [
    "clean_df['packageType'].unique()"
   ]
  },
  {
   "cell_type": "code",
   "execution_count": 905,
   "metadata": {},
   "outputs": [
    {
     "name": "stderr",
     "output_type": "stream",
     "text": [
      "<ipython-input-905-0c6c52cc0296>:2: SettingWithCopyWarning: \n",
      "A value is trying to be set on a copy of a slice from a DataFrame\n",
      "\n",
      "See the caveats in the documentation: https://pandas.pydata.org/pandas-docs/stable/user_guide/indexing.html#returning-a-view-versus-a-copy\n",
      "  clean_df.packageType[clean_df.packageType == 'nan'] = 0\n",
      "<ipython-input-905-0c6c52cc0296>:3: SettingWithCopyWarning: \n",
      "A value is trying to be set on a copy of a slice from a DataFrame\n",
      "\n",
      "See the caveats in the documentation: https://pandas.pydata.org/pandas-docs/stable/user_guide/indexing.html#returning-a-view-versus-a-copy\n",
      "  clean_df.packageType[clean_df.packageType == 'TT'] = 1\n"
     ]
    }
   ],
   "source": [
    "# Turning values in clean_df['packageType'] to binary\n",
    "clean_df.packageType[clean_df.packageType == 'nan'] = 0\n",
    "clean_df.packageType[clean_df.packageType == 'TT'] = 1"
   ]
  },
  {
   "cell_type": "code",
   "execution_count": 909,
   "metadata": {},
   "outputs": [
    {
     "data": {
      "text/plain": [
       "array(['D', 'B', 'C', 'A'], dtype=object)"
      ]
     },
     "execution_count": 909,
     "metadata": {},
     "output_type": "execute_result"
    }
   ],
   "source": [
    "clean_df['carrier'].unique()"
   ]
  },
  {
   "cell_type": "code",
   "execution_count": 910,
   "metadata": {},
   "outputs": [
    {
     "name": "stderr",
     "output_type": "stream",
     "text": [
      "<ipython-input-910-5cc71f479bdf>:2: SettingWithCopyWarning: \n",
      "A value is trying to be set on a copy of a slice from a DataFrame\n",
      "\n",
      "See the caveats in the documentation: https://pandas.pydata.org/pandas-docs/stable/user_guide/indexing.html#returning-a-view-versus-a-copy\n",
      "  clean_df.carrier[clean_df.carrier == 'A'] = 0\n",
      "<ipython-input-910-5cc71f479bdf>:3: SettingWithCopyWarning: \n",
      "A value is trying to be set on a copy of a slice from a DataFrame\n",
      "\n",
      "See the caveats in the documentation: https://pandas.pydata.org/pandas-docs/stable/user_guide/indexing.html#returning-a-view-versus-a-copy\n",
      "  clean_df.carrier[clean_df.carrier == 'B'] = 1\n",
      "<ipython-input-910-5cc71f479bdf>:4: SettingWithCopyWarning: \n",
      "A value is trying to be set on a copy of a slice from a DataFrame\n",
      "\n",
      "See the caveats in the documentation: https://pandas.pydata.org/pandas-docs/stable/user_guide/indexing.html#returning-a-view-versus-a-copy\n",
      "  clean_df.carrier[clean_df.carrier == 'C'] = 2\n",
      "<ipython-input-910-5cc71f479bdf>:5: SettingWithCopyWarning: \n",
      "A value is trying to be set on a copy of a slice from a DataFrame\n",
      "\n",
      "See the caveats in the documentation: https://pandas.pydata.org/pandas-docs/stable/user_guide/indexing.html#returning-a-view-versus-a-copy\n",
      "  clean_df.carrier[clean_df.carrier == 'D'] = 3\n"
     ]
    }
   ],
   "source": [
    "# Turning values in clean_df['carrier'] to binary\n",
    "clean_df.carrier[clean_df.carrier == 'A'] = 0\n",
    "clean_df.carrier[clean_df.carrier == 'B'] = 1\n",
    "clean_df.carrier[clean_df.carrier == 'C'] = 2\n",
    "clean_df.carrier[clean_df.carrier == 'D'] = 3"
   ]
  },
  {
   "cell_type": "markdown",
   "metadata": {},
   "source": [
    "### Train test split"
   ]
  },
  {
   "cell_type": "code",
   "execution_count": 914,
   "metadata": {
    "scrolled": true
   },
   "outputs": [],
   "source": [
    "X = clean_df.drop(columns='cost')\n",
    "y = clean_df['cost']"
   ]
  },
  {
   "cell_type": "code",
   "execution_count": 915,
   "metadata": {},
   "outputs": [],
   "source": [
    "# Train-test split\n",
    "X_train, X_test, y_train, y_test = train_test_split(X, y, random_state=42)"
   ]
  },
  {
   "cell_type": "code",
   "execution_count": 916,
   "metadata": {},
   "outputs": [],
   "source": [
    "# Scaling, fitting, and transforming train and test data \n",
    "scaler = StandardScaler()\n",
    "scaler.fit(X_train)\n",
    "\n",
    "X_train_sc = scaler.transform(X_train)\n",
    "X_test_sc = scaler.transform(X_test)"
   ]
  },
  {
   "cell_type": "code",
   "execution_count": 917,
   "metadata": {},
   "outputs": [
    {
     "data": {
      "text/plain": [
       "66.000000      582\n",
       "63.000000      575\n",
       "60.000000      572\n",
       "63.052096      155\n",
       "60.186092      124\n",
       "              ... \n",
       "94.020080        1\n",
       "1380.044973      1\n",
       "71.683696        1\n",
       "145.589927       1\n",
       "293.651316       1\n",
       "Name: cost, Length: 3456, dtype: int64"
      ]
     },
     "execution_count": 917,
     "metadata": {},
     "output_type": "execute_result"
    }
   ],
   "source": [
    "#Exploring target column breakdown\n",
    "y_train.value_counts()"
   ]
  },
  {
   "cell_type": "code",
   "execution_count": 918,
   "metadata": {},
   "outputs": [
    {
     "data": {
      "text/plain": [
       "66.000000      0.019898\n",
       "63.000000      0.019659\n",
       "60.000000      0.019556\n",
       "63.052096      0.005299\n",
       "60.186092      0.004239\n",
       "                 ...   \n",
       "94.020080      0.000034\n",
       "1380.044973    0.000034\n",
       "71.683696      0.000034\n",
       "145.589927     0.000034\n",
       "293.651316     0.000034\n",
       "Name: cost, Length: 3456, dtype: float64"
      ]
     },
     "execution_count": 918,
     "metadata": {},
     "output_type": "execute_result"
    }
   ],
   "source": [
    "y_train.value_counts(normalize=True)"
   ]
  },
  {
   "cell_type": "code",
   "execution_count": null,
   "metadata": {},
   "outputs": [],
   "source": []
  },
  {
   "cell_type": "markdown",
   "metadata": {},
   "source": [
    "## Modeling"
   ]
  },
  {
   "cell_type": "markdown",
   "metadata": {},
   "source": [
    "Describe and justify the process for analyzing or modeling the data.\n",
    "\n",
    "Questions to consider:\n",
    "\n",
    "- How will you analyze the data to arrive at an initial approach?\n",
    "- How will you iterate on your initial approach to make it better?\n",
    "- What model type is most appropriate, given the data and the business problem?"
   ]
  },
  {
   "cell_type": "markdown",
   "metadata": {},
   "source": [
    "## Evaluation"
   ]
  },
  {
   "cell_type": "markdown",
   "metadata": {},
   "source": [
    "The evaluation of each model should accompany the creation of each model, and you should be sure to evaluate your models consistently.\n",
    "\n",
    "Evaluate how well your work solves the stated business problem.\n",
    "\n",
    "Questions to consider:\n",
    "\n",
    "- How do you interpret the results?\n",
    "- How well does your model fit your data? How much better is this than your baseline model? Is it over or under fit?\n",
    "- How well does your model/data fit any relevant modeling assumptions?\n",
    "- For the final model, you might also consider:\n",
    "\n",
    "- How confident are you that your results would generalize beyond the data you have?\n",
    "- How confident are you that this model would benefit the business if put into use?\n",
    "- What does this final model tell you about the relationship between your inputs and outputs?"
   ]
  },
  {
   "cell_type": "markdown",
   "metadata": {},
   "source": [
    "### Baseline Understanding "
   ]
  },
  {
   "cell_type": "markdown",
   "metadata": {},
   "source": [
    "What does a baseline, model-less prediction look like?"
   ]
  },
  {
   "cell_type": "code",
   "execution_count": null,
   "metadata": {},
   "outputs": [],
   "source": [
    "# code here to arrive at a baseline prediction"
   ]
  },
  {
   "cell_type": "markdown",
   "metadata": {},
   "source": [
    "### First ___ Model"
   ]
  },
  {
   "cell_type": "markdown",
   "metadata": {},
   "source": [
    "Before going too far down the data preparation rabbit hole, be sure to check your work against a first 'substandard' model! What is the easiest way for you to find out how hard your problem is?"
   ]
  },
  {
   "cell_type": "code",
   "execution_count": null,
   "metadata": {},
   "outputs": [],
   "source": [
    "# code here for your first 'substandard' model"
   ]
  },
  {
   "cell_type": "code",
   "execution_count": null,
   "metadata": {},
   "outputs": [],
   "source": [
    "# code here to evaluate your first 'substandard' model"
   ]
  },
  {
   "cell_type": "markdown",
   "metadata": {},
   "source": [
    "### Explore Model Types "
   ]
  },
  {
   "cell_type": "markdown",
   "metadata": {},
   "source": [
    "Explore more model types, using fundamentally different algorithms to see how well they fit the data.\n",
    "\n",
    "For example, if you chose to run a decision tree as your first ___ model, you may try a linear/logistic regression\n",
    "next to see how it performs."
   ]
  },
  {
   "cell_type": "code",
   "execution_count": null,
   "metadata": {},
   "outputs": [],
   "source": [
    "# code here for a different model type"
   ]
  },
  {
   "cell_type": "code",
   "execution_count": null,
   "metadata": {},
   "outputs": [],
   "source": [
    "# code here to evaluate that different model"
   ]
  },
  {
   "cell_type": "markdown",
   "metadata": {},
   "source": [
    "### Model Choice & Modeling Iterations"
   ]
  },
  {
   "cell_type": "markdown",
   "metadata": {},
   "source": [
    "Choose which underlying type of model works best, given your initial modeling and your understanding of the data/business problem. This might boil down to deciding whether tree-based or linear model would work best. After making this choice, focus only on models within that family of models (for example, if tree-based models work well and make sense in context, could explore random forests next).\n",
    "\n",
    "Now you can start to use the results of your first model to iterate - there are many options! Explore hyperparameters and feature selection/feature engineering!"
   ]
  },
  {
   "cell_type": "code",
   "execution_count": null,
   "metadata": {},
   "outputs": [],
   "source": [
    "# code here to iteratively improve your models"
   ]
  },
  {
   "cell_type": "code",
   "execution_count": null,
   "metadata": {},
   "outputs": [],
   "source": [
    "# code here to evaluate your iterations"
   ]
  },
  {
   "cell_type": "markdown",
   "metadata": {},
   "source": [
    "### 'Final' Model"
   ]
  },
  {
   "cell_type": "markdown",
   "metadata": {},
   "source": [
    "In the end, you'll arrive at a 'final' model - aka the one you'll use to make your recommendations/conclusions. This likely blends any group work. It might not be the one with the highest scores, but instead might be considered 'final' or 'best' for other reasons."
   ]
  },
  {
   "cell_type": "code",
   "execution_count": null,
   "metadata": {},
   "outputs": [],
   "source": [
    "# code here to show your final model"
   ]
  },
  {
   "cell_type": "code",
   "execution_count": null,
   "metadata": {},
   "outputs": [],
   "source": [
    "# code here to evaluate your final model"
   ]
  },
  {
   "cell_type": "markdown",
   "metadata": {},
   "source": [
    "## Conclusion"
   ]
  },
  {
   "cell_type": "markdown",
   "metadata": {},
   "source": [
    "Provide your conclusions about the work you've done, including any limitations or next steps.\n",
    "\n",
    "Questions to consider:\n",
    "\n",
    "- What would you recommend the business do as a result of this work?\n",
    "- How could the stakeholder use your model effectively?\n",
    "- What are some reasons why your analysis might not fully solve the business problem?\n",
    "- What else could you do in the future to improve this project (future work)?"
   ]
  }
 ],
 "metadata": {
  "kernelspec": {
   "display_name": "Python 3",
   "language": "python",
   "name": "python3"
  },
  "language_info": {
   "codemirror_mode": {
    "name": "ipython",
    "version": 3
   },
   "file_extension": ".py",
   "mimetype": "text/x-python",
   "name": "python",
   "nbconvert_exporter": "python",
   "pygments_lexer": "ipython3",
   "version": "3.8.5"
  }
 },
 "nbformat": 4,
 "nbformat_minor": 4
}
