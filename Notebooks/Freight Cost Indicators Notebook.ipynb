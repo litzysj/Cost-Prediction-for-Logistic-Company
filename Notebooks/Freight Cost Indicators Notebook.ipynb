{
 "cells": [
  {
   "cell_type": "markdown",
   "metadata": {},
   "source": [
    "# Cost Prediction for Logistic Company"
   ]
  },
  {
   "cell_type": "markdown",
   "metadata": {},
   "source": [
    "## Overview"
   ]
  },
  {
   "cell_type": "markdown",
   "metadata": {},
   "source": [
    "    The logistics side of a company consists of different components such as : warehousing, packaging, inventory, transportation, and information. It is important for a company to be able to predict the cost of transporting their packages from point A to point B in order for them to have a clear idea of how much they should expect to spend on transportation costs. As an accounting student, I wanted to marry my knowledge in accounting and data science by focusing on the transportation component and create a model that predicts the transportation cost based on different variables. The data that I used came from Kaggle. This dataset, although it does not consist of \"real\" business data was still useful in creating a predictive model. It contained 11 different variables and roughly 40,000 rows of data. I ran different models such as: linear regression, grid search, and random forest. I ended up using a random forest model, a supervised machine learning algorith, to make this predictive model. The results of this model indicated that the weight, time of day, and origin location / destination location variables were the most correlated variables with cost (the variable we want to predict). Based off of these results my recommendations would be that the company optimize time of day, optimize origin location / destination location, and although reducing the weight of each transportation seems like commom sense, it is important to not diminish its impact on transporation costs."
   ]
  },
  {
   "cell_type": "markdown",
   "metadata": {},
   "source": [
    "## Business Problem"
   ]
  },
  {
   "cell_type": "markdown",
   "metadata": {},
   "source": [
    "    The business problem that I am aiming to help solve is creating a model that predicts the transportation cost based off of different variables. The internal stakeholders are the business owner and CFO. A pain point related to this project is deciding if I should drop or keep the outliers in this dataset. My deliverable is both the analysis of the models results and the model itself. The way to approach the business problem is run regression models on the data set in order to see the relationship between the independent and dependent variables. "
   ]
  },
  {
   "cell_type": "markdown",
   "metadata": {},
   "source": [
    "## Imports"
   ]
  },
  {
   "cell_type": "code",
   "execution_count": 58,
   "metadata": {},
   "outputs": [],
   "source": [
    "import pandas as pd\n",
    "from math import sqrt\n",
    "import seaborn as sns\n",
    "import statsmodels.api as sm \n",
    "import matplotlib.pyplot as plt\n",
    "\n",
    "from time import strftime\n",
    "from datetime import datetime\n",
    "\n",
    "from sklearn import preprocessing\n",
    "from sklearn.pipeline import Pipeline\n",
    "from sklearn.compose import ColumnTransformer\n",
    "from sklearn.tree import DecisionTreeRegressor\n",
    "from sklearn.datasets import make_classification\n",
    "from sklearn.linear_model import LinearRegression\n",
    "from sklearn.ensemble import RandomForestRegressor\n",
    "from sklearn.ensemble import RandomForestClassifier\n",
    "from sklearn.model_selection import GridSearchCV, train_test_split\n",
    "from sklearn.metrics import r2_score, mean_squared_error, mean_absolute_error\n",
    "from sklearn.model_selection import train_test_split, cross_val_predict, TimeSeriesSplit, GridSearchCV\n",
    "from sklearn.preprocessing import LabelEncoder,  MinMaxScaler, OneHotEncoder, StandardScaler"
   ]
  },
  {
   "cell_type": "markdown",
   "metadata": {},
   "source": [
    "## Data Understanding"
   ]
  },
  {
   "cell_type": "markdown",
   "metadata": {},
   "source": [
    "- Where did the data come from?\n",
    "    - Logistic company data from Kaggle\n",
    "- What variables are included?\n",
    "    - trip - Trip id\n",
    "    - date - Date, when trip was made\n",
    "    - dayPart - Day or Night\n",
    "    - exWeatherTag - Heat / Snow\n",
    "    - originLocation - Source location\n",
    "    - destinationLocation - Destination location\n",
    "    - distance - distance traveled\n",
    "    - type - Expedited or Not\n",
    "    - weight - weight carried by carriers\n",
    "    - packageType - Type of packages\n",
    "    - carrier - Name of the carriers\n",
    "    - cost - transportation cost\n",
    "- What is the target variable?\n",
    "    - cost \n",
    "- What are the properties of the variables you intend to use?\n",
    "    - trip\n",
    "    - date\n",
    "    - dayPart\n",
    "    - originLocation\n",
    "    - destinationLocation\n",
    "    - distance\n",
    "    - weight\n",
    "    - cost\n",
    "- Assumptions made on dataset \n",
    "    - cost variable is in thousands of dollars \n",
    "    - weight variable is in tons "
   ]
  },
  {
   "cell_type": "markdown",
   "metadata": {},
   "source": [
    "### Exploring data"
   ]
  },
  {
   "cell_type": "code",
   "execution_count": 91,
   "metadata": {},
   "outputs": [
    {
     "name": "stdout",
     "output_type": "stream",
     "text": [
      "test.csv  train.csv\r\n"
     ]
    }
   ],
   "source": [
    "!ls ../data/"
   ]
  },
  {
   "cell_type": "code",
   "execution_count": 92,
   "metadata": {},
   "outputs": [],
   "source": [
    "# setting data to variable and parsing 'date' column\n",
    "df = pd.read_csv('../data/train.csv', parse_dates=['date'])"
   ]
  },
  {
   "cell_type": "code",
   "execution_count": 93,
   "metadata": {},
   "outputs": [
    {
     "data": {
      "text/html": [
       "<div>\n",
       "<style scoped>\n",
       "    .dataframe tbody tr th:only-of-type {\n",
       "        vertical-align: middle;\n",
       "    }\n",
       "\n",
       "    .dataframe tbody tr th {\n",
       "        vertical-align: top;\n",
       "    }\n",
       "\n",
       "    .dataframe thead th {\n",
       "        text-align: right;\n",
       "    }\n",
       "</style>\n",
       "<table border=\"1\" class=\"dataframe\">\n",
       "  <thead>\n",
       "    <tr style=\"text-align: right;\">\n",
       "      <th></th>\n",
       "      <th>trip</th>\n",
       "      <th>date</th>\n",
       "      <th>dayPart</th>\n",
       "      <th>exWeatherTag</th>\n",
       "      <th>originLocation</th>\n",
       "      <th>destinationLocation</th>\n",
       "      <th>distance</th>\n",
       "      <th>type</th>\n",
       "      <th>weight</th>\n",
       "      <th>packageType</th>\n",
       "      <th>carrier</th>\n",
       "      <th>cost</th>\n",
       "    </tr>\n",
       "  </thead>\n",
       "  <tbody>\n",
       "    <tr>\n",
       "      <th>0</th>\n",
       "      <td>t52712528</td>\n",
       "      <td>2017-09-06</td>\n",
       "      <td>night</td>\n",
       "      <td>NaN</td>\n",
       "      <td>S4</td>\n",
       "      <td>D7</td>\n",
       "      <td>2200</td>\n",
       "      <td>expedited</td>\n",
       "      <td>50</td>\n",
       "      <td>NaN</td>\n",
       "      <td>D</td>\n",
       "      <td>68.413152</td>\n",
       "    </tr>\n",
       "    <tr>\n",
       "      <th>1</th>\n",
       "      <td>t29859381</td>\n",
       "      <td>2017-10-21</td>\n",
       "      <td>night</td>\n",
       "      <td>NaN</td>\n",
       "      <td>S8</td>\n",
       "      <td>D1</td>\n",
       "      <td>1800</td>\n",
       "      <td>NaN</td>\n",
       "      <td>12</td>\n",
       "      <td>NaN</td>\n",
       "      <td>B</td>\n",
       "      <td>36.450649</td>\n",
       "    </tr>\n",
       "    <tr>\n",
       "      <th>2</th>\n",
       "      <td>t25702332</td>\n",
       "      <td>2017-07-15</td>\n",
       "      <td>night</td>\n",
       "      <td>NaN</td>\n",
       "      <td>S9</td>\n",
       "      <td>D5</td>\n",
       "      <td>2800</td>\n",
       "      <td>NaN</td>\n",
       "      <td>1</td>\n",
       "      <td>NaN</td>\n",
       "      <td>B</td>\n",
       "      <td>9.057939</td>\n",
       "    </tr>\n",
       "    <tr>\n",
       "      <th>3</th>\n",
       "      <td>t27713405</td>\n",
       "      <td>2017-10-22</td>\n",
       "      <td>day</td>\n",
       "      <td>NaN</td>\n",
       "      <td>S9</td>\n",
       "      <td>D7</td>\n",
       "      <td>3200</td>\n",
       "      <td>NaN</td>\n",
       "      <td>50</td>\n",
       "      <td>NaN</td>\n",
       "      <td>C</td>\n",
       "      <td>57.320087</td>\n",
       "    </tr>\n",
       "    <tr>\n",
       "      <th>4</th>\n",
       "      <td>t49439220</td>\n",
       "      <td>2019-12-11</td>\n",
       "      <td>day</td>\n",
       "      <td>snow</td>\n",
       "      <td>S9</td>\n",
       "      <td>D1</td>\n",
       "      <td>2000</td>\n",
       "      <td>NaN</td>\n",
       "      <td>43</td>\n",
       "      <td>NaN</td>\n",
       "      <td>B</td>\n",
       "      <td>77.263777</td>\n",
       "    </tr>\n",
       "    <tr>\n",
       "      <th>...</th>\n",
       "      <td>...</td>\n",
       "      <td>...</td>\n",
       "      <td>...</td>\n",
       "      <td>...</td>\n",
       "      <td>...</td>\n",
       "      <td>...</td>\n",
       "      <td>...</td>\n",
       "      <td>...</td>\n",
       "      <td>...</td>\n",
       "      <td>...</td>\n",
       "      <td>...</td>\n",
       "      <td>...</td>\n",
       "    </tr>\n",
       "    <tr>\n",
       "      <th>38994</th>\n",
       "      <td>t11845608590</td>\n",
       "      <td>2019-10-17</td>\n",
       "      <td>night</td>\n",
       "      <td>NaN</td>\n",
       "      <td>S3</td>\n",
       "      <td>D3</td>\n",
       "      <td>1200</td>\n",
       "      <td>NaN</td>\n",
       "      <td>3</td>\n",
       "      <td>NaN</td>\n",
       "      <td>B</td>\n",
       "      <td>14.987239</td>\n",
       "    </tr>\n",
       "    <tr>\n",
       "      <th>38995</th>\n",
       "      <td>t53557166488</td>\n",
       "      <td>2019-01-23</td>\n",
       "      <td>night</td>\n",
       "      <td>NaN</td>\n",
       "      <td>S4</td>\n",
       "      <td>D6</td>\n",
       "      <td>2000</td>\n",
       "      <td>NaN</td>\n",
       "      <td>6</td>\n",
       "      <td>NaN</td>\n",
       "      <td>B</td>\n",
       "      <td>33.214738</td>\n",
       "    </tr>\n",
       "    <tr>\n",
       "      <th>38996</th>\n",
       "      <td>t337474787136</td>\n",
       "      <td>2018-10-03</td>\n",
       "      <td>night</td>\n",
       "      <td>NaN</td>\n",
       "      <td>S8</td>\n",
       "      <td>D7</td>\n",
       "      <td>3000</td>\n",
       "      <td>NaN</td>\n",
       "      <td>24</td>\n",
       "      <td>NaN</td>\n",
       "      <td>B</td>\n",
       "      <td>45.172159</td>\n",
       "    </tr>\n",
       "    <tr>\n",
       "      <th>38997</th>\n",
       "      <td>t76488353326</td>\n",
       "      <td>2018-02-26</td>\n",
       "      <td>night</td>\n",
       "      <td>NaN</td>\n",
       "      <td>S8</td>\n",
       "      <td>D5</td>\n",
       "      <td>2600</td>\n",
       "      <td>NaN</td>\n",
       "      <td>31</td>\n",
       "      <td>NaN</td>\n",
       "      <td>B</td>\n",
       "      <td>47.541427</td>\n",
       "    </tr>\n",
       "    <tr>\n",
       "      <th>38998</th>\n",
       "      <td>t33300084668</td>\n",
       "      <td>2017-07-30</td>\n",
       "      <td>night</td>\n",
       "      <td>NaN</td>\n",
       "      <td>S8</td>\n",
       "      <td>D8</td>\n",
       "      <td>3200</td>\n",
       "      <td>NaN</td>\n",
       "      <td>36</td>\n",
       "      <td>NaN</td>\n",
       "      <td>B</td>\n",
       "      <td>68.054098</td>\n",
       "    </tr>\n",
       "  </tbody>\n",
       "</table>\n",
       "<p>38999 rows × 12 columns</p>\n",
       "</div>"
      ],
      "text/plain": [
       "                trip       date dayPart exWeatherTag originLocation  \\\n",
       "0          t52712528 2017-09-06   night          NaN             S4   \n",
       "1          t29859381 2017-10-21   night          NaN             S8   \n",
       "2          t25702332 2017-07-15   night          NaN             S9   \n",
       "3          t27713405 2017-10-22     day          NaN             S9   \n",
       "4          t49439220 2019-12-11     day         snow             S9   \n",
       "...              ...        ...     ...          ...            ...   \n",
       "38994   t11845608590 2019-10-17   night          NaN             S3   \n",
       "38995   t53557166488 2019-01-23   night          NaN             S4   \n",
       "38996  t337474787136 2018-10-03   night          NaN             S8   \n",
       "38997   t76488353326 2018-02-26   night          NaN             S8   \n",
       "38998   t33300084668 2017-07-30   night          NaN             S8   \n",
       "\n",
       "      destinationLocation  distance       type  weight packageType carrier  \\\n",
       "0                      D7      2200  expedited      50         NaN       D   \n",
       "1                      D1      1800        NaN      12         NaN       B   \n",
       "2                      D5      2800        NaN       1         NaN       B   \n",
       "3                      D7      3200        NaN      50         NaN       C   \n",
       "4                      D1      2000        NaN      43         NaN       B   \n",
       "...                   ...       ...        ...     ...         ...     ...   \n",
       "38994                  D3      1200        NaN       3         NaN       B   \n",
       "38995                  D6      2000        NaN       6         NaN       B   \n",
       "38996                  D7      3000        NaN      24         NaN       B   \n",
       "38997                  D5      2600        NaN      31         NaN       B   \n",
       "38998                  D8      3200        NaN      36         NaN       B   \n",
       "\n",
       "            cost  \n",
       "0      68.413152  \n",
       "1      36.450649  \n",
       "2       9.057939  \n",
       "3      57.320087  \n",
       "4      77.263777  \n",
       "...          ...  \n",
       "38994  14.987239  \n",
       "38995  33.214738  \n",
       "38996  45.172159  \n",
       "38997  47.541427  \n",
       "38998  68.054098  \n",
       "\n",
       "[38999 rows x 12 columns]"
      ]
     },
     "execution_count": 93,
     "metadata": {},
     "output_type": "execute_result"
    }
   ],
   "source": [
    "df"
   ]
  },
  {
   "cell_type": "code",
   "execution_count": 94,
   "metadata": {},
   "outputs": [
    {
     "data": {
      "text/plain": [
       "38999"
      ]
     },
     "execution_count": 94,
     "metadata": {},
     "output_type": "execute_result"
    }
   ],
   "source": [
    "# number of rows in df\n",
    "len(df)"
   ]
  },
  {
   "cell_type": "code",
   "execution_count": 95,
   "metadata": {},
   "outputs": [
    {
     "name": "stdout",
     "output_type": "stream",
     "text": [
      "<class 'pandas.core.frame.DataFrame'>\n",
      "RangeIndex: 38999 entries, 0 to 38998\n",
      "Data columns (total 12 columns):\n",
      " #   Column               Non-Null Count  Dtype         \n",
      "---  ------               --------------  -----         \n",
      " 0   trip                 38999 non-null  object        \n",
      " 1   date                 38999 non-null  datetime64[ns]\n",
      " 2   dayPart              38999 non-null  object        \n",
      " 3   exWeatherTag         4882 non-null   object        \n",
      " 4   originLocation       38999 non-null  object        \n",
      " 5   destinationLocation  38999 non-null  object        \n",
      " 6   distance             38999 non-null  int64         \n",
      " 7   type                 3748 non-null   object        \n",
      " 8   weight               38999 non-null  int64         \n",
      " 9   packageType          2500 non-null   object        \n",
      " 10  carrier              38999 non-null  object        \n",
      " 11  cost                 38999 non-null  float64       \n",
      "dtypes: datetime64[ns](1), float64(1), int64(2), object(8)\n",
      "memory usage: 3.6+ MB\n"
     ]
    }
   ],
   "source": [
    "# exploring dtypes for variables\n",
    "df.info()"
   ]
  },
  {
   "cell_type": "code",
   "execution_count": 96,
   "metadata": {},
   "outputs": [
    {
     "data": {
      "text/plain": [
       "<AxesSubplot:ylabel='Frequency'>"
      ]
     },
     "execution_count": 96,
     "metadata": {},
     "output_type": "execute_result"
    },
    {
     "data": {
      "image/png": "[encoded data removed]",
      "text/plain": [
       "<Figure size 432x288 with 1 Axes>"
      ]
     },
     "metadata": {
      "needs_background": "light"
     },
     "output_type": "display_data"
    }
   ],
   "source": [
    "# visualizing 'cost' column\n",
    "df['cost'].plot(kind='hist', bins=20)"
   ]
  },
  {
   "cell_type": "code",
   "execution_count": 97,
   "metadata": {},
   "outputs": [
    {
     "data": {
      "text/plain": [
       "count    38999.000000\n",
       "mean        80.972210\n",
       "std        180.715055\n",
       "min          5.000000\n",
       "25%         38.768742\n",
       "50%         46.468476\n",
       "75%         70.239797\n",
       "max       2019.734797\n",
       "Name: cost, dtype: float64"
      ]
     },
     "execution_count": 97,
     "metadata": {},
     "output_type": "execute_result"
    }
   ],
   "source": [
    "df['cost'].describe()"
   ]
  },
  {
   "cell_type": "markdown",
   "metadata": {},
   "source": [
    "## Data Engineering"
   ]
  },
  {
   "cell_type": "markdown",
   "metadata": {},
   "source": [
    "- Were there variables you dropped or created?\n",
    "    - Dropped : 'exWeatherTag', 'type', 'packageType'\n",
    "- How did you address missing values or outliers?\n",
    "    - Kept outliers because they capture the full variability of my dataset without violating assumptions and skewing results\n",
    "- Why are these choices appropriate given the data and the business problem?\n",
    "    - They are appropriate in order for the model to be exposed to different data samples\n",
    "- Can you pipeline your preparation steps to use them consistently in the modeling process?\n",
    "    - Yes "
   ]
  },
  {
   "cell_type": "code",
   "execution_count": 98,
   "metadata": {},
   "outputs": [],
   "source": [
    "# exploring nans in different variables "
   ]
  },
  {
   "cell_type": "code",
   "execution_count": 99,
   "metadata": {},
   "outputs": [
    {
     "data": {
      "text/plain": [
       "snow    3286\n",
       "heat    1596\n",
       "Name: exWeatherTag, dtype: int64"
      ]
     },
     "execution_count": 99,
     "metadata": {},
     "output_type": "execute_result"
    }
   ],
   "source": [
    "df['exWeatherTag'].value_counts()"
   ]
  },
  {
   "cell_type": "code",
   "execution_count": 100,
   "metadata": {},
   "outputs": [
    {
     "data": {
      "text/plain": [
       "expedited    3748\n",
       "Name: type, dtype: int64"
      ]
     },
     "execution_count": 100,
     "metadata": {},
     "output_type": "execute_result"
    }
   ],
   "source": [
    "df['type'].value_counts()"
   ]
  },
  {
   "cell_type": "code",
   "execution_count": 101,
   "metadata": {},
   "outputs": [
    {
     "data": {
      "text/plain": [
       "TT    2500\n",
       "Name: packageType, dtype: int64"
      ]
     },
     "execution_count": 101,
     "metadata": {},
     "output_type": "execute_result"
    }
   ],
   "source": [
    "df['packageType'].value_counts()"
   ]
  },
  {
   "cell_type": "code",
   "execution_count": 102,
   "metadata": {},
   "outputs": [],
   "source": [
    "# dropping columns\n",
    "clean_df = df.drop(columns=['exWeatherTag', 'type', 'packageType'])"
   ]
  },
  {
   "cell_type": "code",
   "execution_count": 103,
   "metadata": {},
   "outputs": [],
   "source": [
    "# creating 'month' column \n",
    "clean_df['month'] = clean_df['date'].dt.month"
   ]
  },
  {
   "cell_type": "markdown",
   "metadata": {},
   "source": [
    "### Train test split"
   ]
  },
  {
   "cell_type": "code",
   "execution_count": 104,
   "metadata": {},
   "outputs": [
    {
     "name": "stdout",
     "output_type": "stream",
     "text": [
      "<class 'pandas.core.frame.DataFrame'>\n",
      "RangeIndex: 38999 entries, 0 to 38998\n",
      "Data columns (total 10 columns):\n",
      " #   Column               Non-Null Count  Dtype         \n",
      "---  ------               --------------  -----         \n",
      " 0   trip                 38999 non-null  object        \n",
      " 1   date                 38999 non-null  datetime64[ns]\n",
      " 2   dayPart              38999 non-null  object        \n",
      " 3   originLocation       38999 non-null  object        \n",
      " 4   destinationLocation  38999 non-null  object        \n",
      " 5   distance             38999 non-null  int64         \n",
      " 6   weight               38999 non-null  int64         \n",
      " 7   carrier              38999 non-null  object        \n",
      " 8   cost                 38999 non-null  float64       \n",
      " 9   month                38999 non-null  int64         \n",
      "dtypes: datetime64[ns](1), float64(1), int64(3), object(5)\n",
      "memory usage: 3.0+ MB\n"
     ]
    }
   ],
   "source": [
    "clean_df.info()"
   ]
  },
  {
   "cell_type": "code",
   "execution_count": 105,
   "metadata": {},
   "outputs": [],
   "source": [
    "X = clean_df.drop(columns=['trip','cost', 'date'])\n",
    "y = clean_df['cost']"
   ]
  },
  {
   "cell_type": "code",
   "execution_count": 106,
   "metadata": {},
   "outputs": [],
   "source": [
    "# Train-test split\n",
    "X_train, X_test, y_train, y_test = train_test_split(\n",
    "    X, y, random_state=42, test_size = .2)"
   ]
  },
  {
   "cell_type": "code",
   "execution_count": 107,
   "metadata": {},
   "outputs": [
    {
     "data": {
      "text/plain": [
       "count    31199.000000\n",
       "mean        80.391868\n",
       "std        178.244806\n",
       "min          5.000000\n",
       "25%         38.861952\n",
       "50%         46.427799\n",
       "75%         70.193598\n",
       "max       2006.016001\n",
       "Name: cost, dtype: float64"
      ]
     },
     "execution_count": 107,
     "metadata": {},
     "output_type": "execute_result"
    }
   ],
   "source": [
    "y_train.describe()"
   ]
  },
  {
   "cell_type": "code",
   "execution_count": 108,
   "metadata": {
    "scrolled": true
   },
   "outputs": [
    {
     "data": {
      "text/html": [
       "<div>\n",
       "<style scoped>\n",
       "    .dataframe tbody tr th:only-of-type {\n",
       "        vertical-align: middle;\n",
       "    }\n",
       "\n",
       "    .dataframe tbody tr th {\n",
       "        vertical-align: top;\n",
       "    }\n",
       "\n",
       "    .dataframe thead th {\n",
       "        text-align: right;\n",
       "    }\n",
       "</style>\n",
       "<table border=\"1\" class=\"dataframe\">\n",
       "  <thead>\n",
       "    <tr style=\"text-align: right;\">\n",
       "      <th></th>\n",
       "      <th>distance</th>\n",
       "      <th>weight</th>\n",
       "      <th>month</th>\n",
       "    </tr>\n",
       "  </thead>\n",
       "  <tbody>\n",
       "    <tr>\n",
       "      <th>count</th>\n",
       "      <td>31199.000000</td>\n",
       "      <td>31199.000000</td>\n",
       "      <td>31199.000000</td>\n",
       "    </tr>\n",
       "    <tr>\n",
       "      <th>mean</th>\n",
       "      <td>2003.987307</td>\n",
       "      <td>42.128241</td>\n",
       "      <td>6.494054</td>\n",
       "    </tr>\n",
       "    <tr>\n",
       "      <th>std</th>\n",
       "      <td>730.772599</td>\n",
       "      <td>75.062926</td>\n",
       "      <td>3.449203</td>\n",
       "    </tr>\n",
       "    <tr>\n",
       "      <th>min</th>\n",
       "      <td>400.000000</td>\n",
       "      <td>1.000000</td>\n",
       "      <td>1.000000</td>\n",
       "    </tr>\n",
       "    <tr>\n",
       "      <th>25%</th>\n",
       "      <td>1400.000000</td>\n",
       "      <td>13.000000</td>\n",
       "      <td>4.000000</td>\n",
       "    </tr>\n",
       "    <tr>\n",
       "      <th>50%</th>\n",
       "      <td>2000.000000</td>\n",
       "      <td>25.000000</td>\n",
       "      <td>6.000000</td>\n",
       "    </tr>\n",
       "    <tr>\n",
       "      <th>75%</th>\n",
       "      <td>2600.000000</td>\n",
       "      <td>39.000000</td>\n",
       "      <td>9.000000</td>\n",
       "    </tr>\n",
       "    <tr>\n",
       "      <th>max</th>\n",
       "      <td>3600.000000</td>\n",
       "      <td>500.000000</td>\n",
       "      <td>12.000000</td>\n",
       "    </tr>\n",
       "  </tbody>\n",
       "</table>\n",
       "</div>"
      ],
      "text/plain": [
       "           distance        weight         month\n",
       "count  31199.000000  31199.000000  31199.000000\n",
       "mean    2003.987307     42.128241      6.494054\n",
       "std      730.772599     75.062926      3.449203\n",
       "min      400.000000      1.000000      1.000000\n",
       "25%     1400.000000     13.000000      4.000000\n",
       "50%     2000.000000     25.000000      6.000000\n",
       "75%     2600.000000     39.000000      9.000000\n",
       "max     3600.000000    500.000000     12.000000"
      ]
     },
     "execution_count": 108,
     "metadata": {},
     "output_type": "execute_result"
    }
   ],
   "source": [
    "X_train.describe()"
   ]
  },
  {
   "cell_type": "markdown",
   "metadata": {},
   "source": [
    "### Pipeline"
   ]
  },
  {
   "cell_type": "code",
   "execution_count": 109,
   "metadata": {},
   "outputs": [],
   "source": [
    "# pipeline for daypart, originlocation, destinationlocation, carrier, month\n",
    "obj_transformer = Pipeline(steps=[\n",
    "    ('ohe', OneHotEncoder(drop='first'))\n",
    "])"
   ]
  },
  {
   "cell_type": "code",
   "execution_count": 110,
   "metadata": {},
   "outputs": [],
   "source": [
    "num_transformer = Pipeline(steps=[\n",
    "    ('scaler', StandardScaler())\n",
    "])"
   ]
  },
  {
   "cell_type": "code",
   "execution_count": 111,
   "metadata": {},
   "outputs": [],
   "source": [
    "col_transformer = ColumnTransformer(transformers=[\n",
    "    ('num_trans', num_transformer, ['distance', 'weight']),\n",
    "    ('obj_trans', obj_transformer, ['dayPart', 'originLocation', 'destinationLocation', 'carrier', 'month'])\n",
    "])"
   ]
  },
  {
   "cell_type": "code",
   "execution_count": 112,
   "metadata": {},
   "outputs": [],
   "source": [
    "X_cols = list(X_train.columns)"
   ]
  },
  {
   "cell_type": "code",
   "execution_count": 123,
   "metadata": {
    "scrolled": false
   },
   "outputs": [
    {
     "data": {
      "text/plain": [
       "['dayPart',\n",
       " 'originLocation',\n",
       " 'destinationLocation',\n",
       " 'distance',\n",
       " 'weight',\n",
       " 'carrier',\n",
       " 'month']"
      ]
     },
     "execution_count": 123,
     "metadata": {},
     "output_type": "execute_result"
    }
   ],
   "source": [
    "X_cols"
   ]
  },
  {
   "cell_type": "code",
   "execution_count": 126,
   "metadata": {
    "scrolled": false
   },
   "outputs": [
    {
     "data": {
      "text/html": [
       "<div>\n",
       "<style scoped>\n",
       "    .dataframe tbody tr th:only-of-type {\n",
       "        vertical-align: middle;\n",
       "    }\n",
       "\n",
       "    .dataframe tbody tr th {\n",
       "        vertical-align: top;\n",
       "    }\n",
       "\n",
       "    .dataframe thead th {\n",
       "        text-align: right;\n",
       "    }\n",
       "</style>\n",
       "<table border=\"1\" class=\"dataframe\">\n",
       "  <thead>\n",
       "    <tr style=\"text-align: right;\">\n",
       "      <th></th>\n",
       "      <th>dayPart</th>\n",
       "      <th>originLocation</th>\n",
       "      <th>destinationLocation</th>\n",
       "      <th>distance</th>\n",
       "      <th>weight</th>\n",
       "      <th>carrier</th>\n",
       "      <th>month</th>\n",
       "    </tr>\n",
       "  </thead>\n",
       "  <tbody>\n",
       "    <tr>\n",
       "      <th>12709</th>\n",
       "      <td>day</td>\n",
       "      <td>S5</td>\n",
       "      <td>D3</td>\n",
       "      <td>1600</td>\n",
       "      <td>3</td>\n",
       "      <td>B</td>\n",
       "      <td>1</td>\n",
       "    </tr>\n",
       "    <tr>\n",
       "      <th>37727</th>\n",
       "      <td>night</td>\n",
       "      <td>S7</td>\n",
       "      <td>D5</td>\n",
       "      <td>2400</td>\n",
       "      <td>3</td>\n",
       "      <td>D</td>\n",
       "      <td>10</td>\n",
       "    </tr>\n",
       "    <tr>\n",
       "      <th>31410</th>\n",
       "      <td>night</td>\n",
       "      <td>S5</td>\n",
       "      <td>D3</td>\n",
       "      <td>1600</td>\n",
       "      <td>45</td>\n",
       "      <td>D</td>\n",
       "      <td>10</td>\n",
       "    </tr>\n",
       "    <tr>\n",
       "      <th>13135</th>\n",
       "      <td>day</td>\n",
       "      <td>S8</td>\n",
       "      <td>D3</td>\n",
       "      <td>2200</td>\n",
       "      <td>33</td>\n",
       "      <td>B</td>\n",
       "      <td>6</td>\n",
       "    </tr>\n",
       "    <tr>\n",
       "      <th>34243</th>\n",
       "      <td>night</td>\n",
       "      <td>S2</td>\n",
       "      <td>D9</td>\n",
       "      <td>2200</td>\n",
       "      <td>3</td>\n",
       "      <td>B</td>\n",
       "      <td>7</td>\n",
       "    </tr>\n",
       "    <tr>\n",
       "      <th>...</th>\n",
       "      <td>...</td>\n",
       "      <td>...</td>\n",
       "      <td>...</td>\n",
       "      <td>...</td>\n",
       "      <td>...</td>\n",
       "      <td>...</td>\n",
       "      <td>...</td>\n",
       "    </tr>\n",
       "    <tr>\n",
       "      <th>6265</th>\n",
       "      <td>day</td>\n",
       "      <td>S9</td>\n",
       "      <td>D2</td>\n",
       "      <td>2200</td>\n",
       "      <td>49</td>\n",
       "      <td>B</td>\n",
       "      <td>10</td>\n",
       "    </tr>\n",
       "    <tr>\n",
       "      <th>11284</th>\n",
       "      <td>night</td>\n",
       "      <td>S8</td>\n",
       "      <td>D8</td>\n",
       "      <td>3200</td>\n",
       "      <td>7</td>\n",
       "      <td>B</td>\n",
       "      <td>1</td>\n",
       "    </tr>\n",
       "    <tr>\n",
       "      <th>38158</th>\n",
       "      <td>night</td>\n",
       "      <td>S1</td>\n",
       "      <td>D9</td>\n",
       "      <td>2000</td>\n",
       "      <td>34</td>\n",
       "      <td>B</td>\n",
       "      <td>5</td>\n",
       "    </tr>\n",
       "    <tr>\n",
       "      <th>860</th>\n",
       "      <td>night</td>\n",
       "      <td>S9</td>\n",
       "      <td>D9</td>\n",
       "      <td>3600</td>\n",
       "      <td>245</td>\n",
       "      <td>C</td>\n",
       "      <td>5</td>\n",
       "    </tr>\n",
       "    <tr>\n",
       "      <th>15795</th>\n",
       "      <td>night</td>\n",
       "      <td>S2</td>\n",
       "      <td>D1</td>\n",
       "      <td>600</td>\n",
       "      <td>48</td>\n",
       "      <td>A</td>\n",
       "      <td>9</td>\n",
       "    </tr>\n",
       "  </tbody>\n",
       "</table>\n",
       "<p>31199 rows × 7 columns</p>\n",
       "</div>"
      ],
      "text/plain": [
       "      dayPart originLocation destinationLocation  distance  weight carrier  \\\n",
       "12709     day             S5                  D3      1600       3       B   \n",
       "37727   night             S7                  D5      2400       3       D   \n",
       "31410   night             S5                  D3      1600      45       D   \n",
       "13135     day             S8                  D3      2200      33       B   \n",
       "34243   night             S2                  D9      2200       3       B   \n",
       "...       ...            ...                 ...       ...     ...     ...   \n",
       "6265      day             S9                  D2      2200      49       B   \n",
       "11284   night             S8                  D8      3200       7       B   \n",
       "38158   night             S1                  D9      2000      34       B   \n",
       "860     night             S9                  D9      3600     245       C   \n",
       "15795   night             S2                  D1       600      48       A   \n",
       "\n",
       "       month  \n",
       "12709      1  \n",
       "37727     10  \n",
       "31410     10  \n",
       "13135      6  \n",
       "34243      7  \n",
       "...      ...  \n",
       "6265      10  \n",
       "11284      1  \n",
       "38158      5  \n",
       "860        5  \n",
       "15795      9  \n",
       "\n",
       "[31199 rows x 7 columns]"
      ]
     },
     "execution_count": 126,
     "metadata": {},
     "output_type": "execute_result"
    }
   ],
   "source": [
    "pd.DataFrame(X_train, columns=X_train.columns)"
   ]
  },
  {
   "cell_type": "code",
   "execution_count": 127,
   "metadata": {},
   "outputs": [],
   "source": [
    "# creating X_col variable\n",
    "X_cols = list(X_train.columns)"
   ]
  },
  {
   "cell_type": "code",
   "execution_count": 128,
   "metadata": {},
   "outputs": [],
   "source": [
    "# turning columns from X_train into int\n",
    "#for col in X_cols:\n",
    "   # X_train[col] = X_train[col].astype(int)\n",
    "   # X_test[col] = X_test[col].astype(int)"
   ]
  },
  {
   "cell_type": "markdown",
   "metadata": {},
   "source": [
    "## Exploring relationship between two variables"
   ]
  },
  {
   "cell_type": "code",
   "execution_count": 129,
   "metadata": {},
   "outputs": [
    {
     "data": {
      "image/png": "[encoded data removed]",
      "text/plain": [
       "<Figure size 2160x2160 with 1 Axes>"
      ]
     },
     "metadata": {
      "needs_background": "light"
     },
     "output_type": "display_data"
    }
   ],
   "source": [
    "# can use a scatter plot to explore relationship between 'cost' and 'carrier'\n",
    "plt.figure(figsize=(30,30))\n",
    "\n",
    "plt.scatter(clean_df['cost'], clean_df['carrier'])\n",
    "plt.ylabel('Carrier')\n",
    "plt.xlabel('Cost($)')\n",
    "plt.show()"
   ]
  },
  {
   "cell_type": "code",
   "execution_count": 130,
   "metadata": {},
   "outputs": [
    {
     "data": {
      "image/png": "[encoded data removed]",
      "text/plain": [
       "<Figure size 2160x2160 with 1 Axes>"
      ]
     },
     "metadata": {
      "needs_background": "light"
     },
     "output_type": "display_data"
    }
   ],
   "source": [
    "# can use a scatter plot to explore relationship between 'weight' and 'cost'\n",
    "plt.figure(figsize=(30,30))\n",
    "\n",
    "plt.scatter(clean_df['cost'], clean_df['weight'])\n",
    "plt.ylabel('Weight')\n",
    "plt.xlabel('Cost($)')\n",
    "plt.show()"
   ]
  },
  {
   "cell_type": "code",
   "execution_count": 131,
   "metadata": {},
   "outputs": [
    {
     "data": {
      "image/png": "[encoded data removed]",
      "text/plain": [
       "<Figure size 2160x2160 with 1 Axes>"
      ]
     },
     "metadata": {
      "needs_background": "light"
     },
     "output_type": "display_data"
    }
   ],
   "source": [
    "# can use a scatter plot to explore relationship 'cost' and 'distance'\n",
    "plt.figure(figsize=(30,30))\n",
    "\n",
    "plt.scatter(clean_df['cost'], clean_df['distance'])\n",
    "plt.ylabel('Distance')\n",
    "plt.xlabel('Cost($)')\n",
    "plt.show()"
   ]
  },
  {
   "cell_type": "markdown",
   "metadata": {},
   "source": [
    "### Baseline Understanding "
   ]
  },
  {
   "cell_type": "code",
   "execution_count": 175,
   "metadata": {},
   "outputs": [
    {
     "data": {
      "text/html": [
       "<div>\n",
       "<style scoped>\n",
       "    .dataframe tbody tr th:only-of-type {\n",
       "        vertical-align: middle;\n",
       "    }\n",
       "\n",
       "    .dataframe tbody tr th {\n",
       "        vertical-align: top;\n",
       "    }\n",
       "\n",
       "    .dataframe thead th {\n",
       "        text-align: right;\n",
       "    }\n",
       "</style>\n",
       "<table border=\"1\" class=\"dataframe\">\n",
       "  <thead>\n",
       "    <tr style=\"text-align: right;\">\n",
       "      <th></th>\n",
       "      <th>trip</th>\n",
       "      <th>date</th>\n",
       "      <th>dayPart</th>\n",
       "      <th>originLocation</th>\n",
       "      <th>destinationLocation</th>\n",
       "      <th>distance</th>\n",
       "      <th>weight</th>\n",
       "      <th>carrier</th>\n",
       "      <th>cost</th>\n",
       "      <th>month</th>\n",
       "    </tr>\n",
       "  </thead>\n",
       "  <tbody>\n",
       "    <tr>\n",
       "      <th>0</th>\n",
       "      <td>52712528</td>\n",
       "      <td>2017-09-06</td>\n",
       "      <td>night</td>\n",
       "      <td>S4</td>\n",
       "      <td>D7</td>\n",
       "      <td>2200</td>\n",
       "      <td>50</td>\n",
       "      <td>D</td>\n",
       "      <td>68.413152</td>\n",
       "      <td>9</td>\n",
       "    </tr>\n",
       "    <tr>\n",
       "      <th>1</th>\n",
       "      <td>29859381</td>\n",
       "      <td>2017-10-21</td>\n",
       "      <td>night</td>\n",
       "      <td>S8</td>\n",
       "      <td>D1</td>\n",
       "      <td>1800</td>\n",
       "      <td>12</td>\n",
       "      <td>B</td>\n",
       "      <td>36.450649</td>\n",
       "      <td>10</td>\n",
       "    </tr>\n",
       "    <tr>\n",
       "      <th>2</th>\n",
       "      <td>25702332</td>\n",
       "      <td>2017-07-15</td>\n",
       "      <td>night</td>\n",
       "      <td>S9</td>\n",
       "      <td>D5</td>\n",
       "      <td>2800</td>\n",
       "      <td>1</td>\n",
       "      <td>B</td>\n",
       "      <td>9.057939</td>\n",
       "      <td>7</td>\n",
       "    </tr>\n",
       "    <tr>\n",
       "      <th>3</th>\n",
       "      <td>27713405</td>\n",
       "      <td>2017-10-22</td>\n",
       "      <td>day</td>\n",
       "      <td>S9</td>\n",
       "      <td>D7</td>\n",
       "      <td>3200</td>\n",
       "      <td>50</td>\n",
       "      <td>C</td>\n",
       "      <td>57.320087</td>\n",
       "      <td>10</td>\n",
       "    </tr>\n",
       "    <tr>\n",
       "      <th>4</th>\n",
       "      <td>49439220</td>\n",
       "      <td>2019-12-11</td>\n",
       "      <td>day</td>\n",
       "      <td>S9</td>\n",
       "      <td>D1</td>\n",
       "      <td>2000</td>\n",
       "      <td>43</td>\n",
       "      <td>B</td>\n",
       "      <td>77.263777</td>\n",
       "      <td>12</td>\n",
       "    </tr>\n",
       "  </tbody>\n",
       "</table>\n",
       "</div>"
      ],
      "text/plain": [
       "       trip       date dayPart originLocation destinationLocation  distance  \\\n",
       "0  52712528 2017-09-06   night             S4                  D7      2200   \n",
       "1  29859381 2017-10-21   night             S8                  D1      1800   \n",
       "2  25702332 2017-07-15   night             S9                  D5      2800   \n",
       "3  27713405 2017-10-22     day             S9                  D7      3200   \n",
       "4  49439220 2019-12-11     day             S9                  D1      2000   \n",
       "\n",
       "   weight carrier       cost  month  \n",
       "0      50       D  68.413152      9  \n",
       "1      12       B  36.450649     10  \n",
       "2       1       B   9.057939      7  \n",
       "3      50       C  57.320087     10  \n",
       "4      43       B  77.263777     12  "
      ]
     },
     "execution_count": 175,
     "metadata": {},
     "output_type": "execute_result"
    }
   ],
   "source": [
    "# What does a baseline, model-less prediction look like?\n",
    "clean_df.head()"
   ]
  },
  {
   "cell_type": "markdown",
   "metadata": {},
   "source": [
    "## Modeling"
   ]
  },
  {
   "cell_type": "markdown",
   "metadata": {},
   "source": [
    "Describe and justify the process for analyzing or modeling the data\n",
    "\n",
    "- How will you iterate on your initial approach to make it better?\n",
    "    - tune parametes\n",
    "    - run GridSearchCV\n",
    "- What model types are most appropriate, given the data and the business problem?\n",
    "    - Linear regression \n",
    "    - Decision Tree"
   ]
  },
  {
   "cell_type": "code",
   "execution_count": 132,
   "metadata": {
    "scrolled": true
   },
   "outputs": [
    {
     "data": {
      "text/html": [
       "<div>\n",
       "<style scoped>\n",
       "    .dataframe tbody tr th:only-of-type {\n",
       "        vertical-align: middle;\n",
       "    }\n",
       "\n",
       "    .dataframe tbody tr th {\n",
       "        vertical-align: top;\n",
       "    }\n",
       "\n",
       "    .dataframe thead th {\n",
       "        text-align: right;\n",
       "    }\n",
       "</style>\n",
       "<table border=\"1\" class=\"dataframe\">\n",
       "  <thead>\n",
       "    <tr style=\"text-align: right;\">\n",
       "      <th></th>\n",
       "      <th>distance</th>\n",
       "      <th>weight</th>\n",
       "      <th>month</th>\n",
       "    </tr>\n",
       "  </thead>\n",
       "  <tbody>\n",
       "    <tr>\n",
       "      <th>distance</th>\n",
       "      <td>1.000000</td>\n",
       "      <td>-0.004986</td>\n",
       "      <td>0.000988</td>\n",
       "    </tr>\n",
       "    <tr>\n",
       "      <th>weight</th>\n",
       "      <td>-0.004986</td>\n",
       "      <td>1.000000</td>\n",
       "      <td>-0.003634</td>\n",
       "    </tr>\n",
       "    <tr>\n",
       "      <th>month</th>\n",
       "      <td>0.000988</td>\n",
       "      <td>-0.003634</td>\n",
       "      <td>1.000000</td>\n",
       "    </tr>\n",
       "  </tbody>\n",
       "</table>\n",
       "</div>"
      ],
      "text/plain": [
       "          distance    weight     month\n",
       "distance  1.000000 -0.004986  0.000988\n",
       "weight   -0.004986  1.000000 -0.003634\n",
       "month     0.000988 -0.003634  1.000000"
      ]
     },
     "execution_count": 132,
     "metadata": {},
     "output_type": "execute_result"
    }
   ],
   "source": [
    "#checking correlations using Pearson correlation coefficient\n",
    "X.corr()"
   ]
  },
  {
   "cell_type": "code",
   "execution_count": 133,
   "metadata": {},
   "outputs": [
    {
     "data": {
      "image/png": "[encoded data removed]",
      "text/plain": [
       "<Figure size 432x288 with 2 Axes>"
      ]
     },
     "metadata": {
      "needs_background": "light"
     },
     "output_type": "display_data"
    }
   ],
   "source": [
    "# Heat map\n",
    "sns.heatmap(X_train.corr(), annot=True)\n",
    "plt.show()"
   ]
  },
  {
   "cell_type": "code",
   "execution_count": 134,
   "metadata": {
    "scrolled": true
   },
   "outputs": [
    {
     "data": {
      "text/plain": [
       "cost        1.000000\n",
       "weight      0.859548\n",
       "month       0.008062\n",
       "distance    0.006427\n",
       "Name: cost, dtype: float64"
      ]
     },
     "execution_count": 134,
     "metadata": {},
     "output_type": "execute_result"
    }
   ],
   "source": [
    "clean_df.corr()['cost'].map(abs).sort_values(ascending=False)"
   ]
  },
  {
   "cell_type": "markdown",
   "metadata": {},
   "source": [
    "### Checking for linearity and multicollinearity "
   ]
  },
  {
   "cell_type": "code",
   "execution_count": null,
   "metadata": {},
   "outputs": [],
   "source": [
    "sns.pairplot(clean_df)\n",
    "plt.show()"
   ]
  },
  {
   "cell_type": "markdown",
   "metadata": {},
   "source": [
    "### Linear Regression "
   ]
  },
  {
   "cell_type": "code",
   "execution_count": null,
   "metadata": {},
   "outputs": [],
   "source": [
    "# Instantiate our model\n",
    "lr_all = LinearRegression()\n",
    "\n",
    "# Run with all features\n",
    "lr_all.fit(X_train_sc, y_train)\n",
    "\n",
    "# Score on train and test\n",
    "print(f\"Train R2: {lr_all.score(X_train_sc, y_train):.4f}\")\n",
    "print(f\"Test R2: {lr_all.score(X_test_sc, y_test):.4f}\")"
   ]
  },
  {
   "cell_type": "markdown",
   "metadata": {},
   "source": [
    "### Linear regression - Pipeline"
   ]
  },
  {
   "cell_type": "code",
   "execution_count": 136,
   "metadata": {},
   "outputs": [],
   "source": [
    "linreg_pipe = Pipeline(steps=[\n",
    "    ('col_trans', col_transformer),\n",
    "    ('linreg', LinearRegression())\n",
    "])"
   ]
  },
  {
   "cell_type": "code",
   "execution_count": 137,
   "metadata": {},
   "outputs": [
    {
     "data": {
      "text/plain": [
       "Pipeline(steps=[('col_trans',\n",
       "                 ColumnTransformer(transformers=[('num_trans',\n",
       "                                                  Pipeline(steps=[('scaler',\n",
       "                                                                   StandardScaler())]),\n",
       "                                                  ['distance', 'weight']),\n",
       "                                                 ('obj_trans',\n",
       "                                                  Pipeline(steps=[('ohe',\n",
       "                                                                   OneHotEncoder(drop='first'))]),\n",
       "                                                  ['dayPart', 'originLocation',\n",
       "                                                   'destinationLocation',\n",
       "                                                   'carrier', 'month'])])),\n",
       "                ('linreg', LinearRegression())])"
      ]
     },
     "execution_count": 137,
     "metadata": {},
     "output_type": "execute_result"
    }
   ],
   "source": [
    "linreg_pipe.fit(X_train, y_train)"
   ]
  },
  {
   "cell_type": "code",
   "execution_count": 138,
   "metadata": {},
   "outputs": [],
   "source": [
    "y_hat_train = linreg_pipe.predict(X_train)\n",
    "y_hat_test = linreg_pipe.predict(X_test)"
   ]
  },
  {
   "cell_type": "code",
   "execution_count": 139,
   "metadata": {},
   "outputs": [
    {
     "data": {
      "text/plain": [
       "0.7470071996878904"
      ]
     },
     "execution_count": 139,
     "metadata": {},
     "output_type": "execute_result"
    }
   ],
   "source": [
    "# Evaluate: use .score to check accuracy on train and test\n",
    "linreg_pipe.score(X_train, y_train)"
   ]
  },
  {
   "cell_type": "code",
   "execution_count": 140,
   "metadata": {},
   "outputs": [
    {
     "data": {
      "text/plain": [
       "0.7552069864234622"
      ]
     },
     "execution_count": 140,
     "metadata": {},
     "output_type": "execute_result"
    }
   ],
   "source": [
    "linreg_pipe.score(X_test, y_test)"
   ]
  },
  {
   "cell_type": "code",
   "execution_count": 141,
   "metadata": {},
   "outputs": [
    {
     "name": "stdout",
     "output_type": "stream",
     "text": [
      "Train R2: 0.7470071996878904\n",
      "Train RMSE: 89.65283026830319\n",
      "-------------------\n",
      "Test R2: 0.7552069864234622\n",
      "Test RMSE: 94.13278154899274\n"
     ]
    }
   ],
   "source": [
    "print(f'Train R2: {r2_score(y_train, y_hat_train)}')\n",
    "print(f'Train RMSE: {mean_squared_error(y_train, y_hat_train, squared=False)}')\n",
    "print('-------------------')\n",
    "print(f'Test R2: {r2_score(y_test, y_hat_test)}')\n",
    "print(f'Test RMSE: {mean_squared_error(y_test, y_hat_test, squared=False)}')"
   ]
  },
  {
   "cell_type": "markdown",
   "metadata": {},
   "source": [
    "### Decision Tree 1 - Pipeline"
   ]
  },
  {
   "cell_type": "code",
   "execution_count": 142,
   "metadata": {},
   "outputs": [],
   "source": [
    "dt_pipe = Pipeline(steps=[\n",
    "    ('col_trans', col_transformer),\n",
    "    ('dt', DecisionTreeRegressor())\n",
    "])"
   ]
  },
  {
   "cell_type": "code",
   "execution_count": 143,
   "metadata": {},
   "outputs": [
    {
     "data": {
      "text/plain": [
       "Pipeline(steps=[('col_trans',\n",
       "                 ColumnTransformer(transformers=[('num_trans',\n",
       "                                                  Pipeline(steps=[('scaler',\n",
       "                                                                   StandardScaler())]),\n",
       "                                                  ['distance', 'weight']),\n",
       "                                                 ('obj_trans',\n",
       "                                                  Pipeline(steps=[('ohe',\n",
       "                                                                   OneHotEncoder(drop='first'))]),\n",
       "                                                  ['dayPart', 'originLocation',\n",
       "                                                   'destinationLocation',\n",
       "                                                   'carrier', 'month'])])),\n",
       "                ('dt', DecisionTreeRegressor())])"
      ]
     },
     "execution_count": 143,
     "metadata": {},
     "output_type": "execute_result"
    }
   ],
   "source": [
    "dt_pipe.fit(X_train, y_train)"
   ]
  },
  {
   "cell_type": "code",
   "execution_count": 144,
   "metadata": {},
   "outputs": [],
   "source": [
    "y_hat_train = dt_pipe.predict(X_train)\n",
    "y_hat_test = dt_pipe.predict(X_test)"
   ]
  },
  {
   "cell_type": "code",
   "execution_count": 145,
   "metadata": {},
   "outputs": [
    {
     "name": "stdout",
     "output_type": "stream",
     "text": [
      "Train R2: 0.9999843558399417\n",
      "Train RMSE: 0.7049950191686595\n",
      "-------------------\n",
      "Test R2: 0.9966716497226848\n",
      "Test RMSE: 10.976298148075134\n"
     ]
    }
   ],
   "source": [
    "print(f'Train R2: {r2_score(y_train, y_hat_train)}')\n",
    "print(f'Train RMSE: {mean_squared_error(y_train, y_hat_train, squared=False)}')\n",
    "print('-------------------')\n",
    "print(f'Test R2: {r2_score(y_test, y_hat_test)}')\n",
    "print(f'Test RMSE: {mean_squared_error(y_test, y_hat_test, squared=False)}')"
   ]
  },
  {
   "cell_type": "code",
   "execution_count": 146,
   "metadata": {},
   "outputs": [
    {
     "data": {
      "text/plain": [
       "<matplotlib.collections.PathCollection at 0x7fd0440e9490>"
      ]
     },
     "execution_count": 146,
     "metadata": {},
     "output_type": "execute_result"
    },
    {
     "data": {
      "image/png": "[encoded data removed]",
      "text/plain": [
       "<Figure size 432x288 with 1 Axes>"
      ]
     },
     "metadata": {
      "needs_background": "light"
     },
     "output_type": "display_data"
    }
   ],
   "source": [
    "plt.scatter(y_test, (y_test - y_hat_test))"
   ]
  },
  {
   "cell_type": "markdown",
   "metadata": {},
   "source": [
    "### Model Choice"
   ]
  },
  {
   "cell_type": "markdown",
   "metadata": {},
   "source": [
    "### Decision Tree 2 - Pipeline"
   ]
  },
  {
   "cell_type": "code",
   "execution_count": 147,
   "metadata": {},
   "outputs": [],
   "source": [
    "dt_pipe2 = Pipeline(steps=[\n",
    "    ('col_trans', col_transformer),\n",
    "    ('dt', DecisionTreeRegressor(max_depth=8))\n",
    "])"
   ]
  },
  {
   "cell_type": "code",
   "execution_count": 148,
   "metadata": {},
   "outputs": [
    {
     "data": {
      "text/plain": [
       "Pipeline(steps=[('col_trans',\n",
       "                 ColumnTransformer(transformers=[('num_trans',\n",
       "                                                  Pipeline(steps=[('scaler',\n",
       "                                                                   StandardScaler())]),\n",
       "                                                  ['distance', 'weight']),\n",
       "                                                 ('obj_trans',\n",
       "                                                  Pipeline(steps=[('ohe',\n",
       "                                                                   OneHotEncoder(drop='first'))]),\n",
       "                                                  ['dayPart', 'originLocation',\n",
       "                                                   'destinationLocation',\n",
       "                                                   'carrier', 'month'])])),\n",
       "                ('dt', DecisionTreeRegressor(max_depth=8))])"
      ]
     },
     "execution_count": 148,
     "metadata": {},
     "output_type": "execute_result"
    }
   ],
   "source": [
    "dt_pipe2.fit(X_train, y_train)"
   ]
  },
  {
   "cell_type": "code",
   "execution_count": 149,
   "metadata": {},
   "outputs": [],
   "source": [
    "y_hat_train = dt_pipe2.predict(X_train)\n",
    "y_hat_test = dt_pipe2.predict(X_test)"
   ]
  },
  {
   "cell_type": "code",
   "execution_count": 150,
   "metadata": {},
   "outputs": [
    {
     "name": "stdout",
     "output_type": "stream",
     "text": [
      "Train R2: 0.9986328694405819\n",
      "Train RMSE: 6.590447715371685\n",
      "-------------------\n",
      "Test R2: 0.997484202800746\n",
      "Test RMSE: 9.542874165753734\n"
     ]
    }
   ],
   "source": [
    "print(f'Train R2: {r2_score(y_train, y_hat_train)}')\n",
    "print(f'Train RMSE: {mean_squared_error(y_train, y_hat_train, squared=False)}')\n",
    "print('-------------------')\n",
    "print(f'Test R2: {r2_score(y_test, y_hat_test)}')\n",
    "print(f'Test RMSE: {mean_squared_error(y_test, y_hat_test, squared=False)}')"
   ]
  },
  {
   "cell_type": "markdown",
   "metadata": {},
   "source": [
    "### Random forest - Pipeline"
   ]
  },
  {
   "cell_type": "code",
   "execution_count": 151,
   "metadata": {},
   "outputs": [],
   "source": [
    "rf_pipe = Pipeline(steps=[\n",
    "    ('col_trans', col_transformer),\n",
    "    ('rf', RandomForestRegressor())\n",
    "])"
   ]
  },
  {
   "cell_type": "code",
   "execution_count": 152,
   "metadata": {},
   "outputs": [
    {
     "data": {
      "text/plain": [
       "Pipeline(steps=[('col_trans',\n",
       "                 ColumnTransformer(transformers=[('num_trans',\n",
       "                                                  Pipeline(steps=[('scaler',\n",
       "                                                                   StandardScaler())]),\n",
       "                                                  ['distance', 'weight']),\n",
       "                                                 ('obj_trans',\n",
       "                                                  Pipeline(steps=[('ohe',\n",
       "                                                                   OneHotEncoder(drop='first'))]),\n",
       "                                                  ['dayPart', 'originLocation',\n",
       "                                                   'destinationLocation',\n",
       "                                                   'carrier', 'month'])])),\n",
       "                ('rf', RandomForestRegressor())])"
      ]
     },
     "execution_count": 152,
     "metadata": {},
     "output_type": "execute_result"
    }
   ],
   "source": [
    "rf_pipe.fit(X_train, y_train)"
   ]
  },
  {
   "cell_type": "code",
   "execution_count": 153,
   "metadata": {},
   "outputs": [],
   "source": [
    "y_hat_train = rf_pipe.predict(X_train)\n",
    "y_hat_test = rf_pipe.predict(X_test)"
   ]
  },
  {
   "cell_type": "code",
   "execution_count": 154,
   "metadata": {},
   "outputs": [
    {
     "name": "stdout",
     "output_type": "stream",
     "text": [
      "Train R2: 0.9996822186718027\n",
      "Train RMSE: 3.177416242781555\n",
      "-------------------\n",
      "Test R2: 0.9977120340962636\n",
      "Test RMSE: 9.100518913323233\n"
     ]
    }
   ],
   "source": [
    "print(f'Train R2: {r2_score(y_train, y_hat_train)}')\n",
    "print(f'Train RMSE: {mean_squared_error(y_train, y_hat_train, squared=False)}')\n",
    "print('-------------------')\n",
    "print(f'Test R2: {r2_score(y_test, y_hat_test)}')\n",
    "print(f'Test RMSE: {mean_squared_error(y_test, y_hat_test, squared=False)}')"
   ]
  },
  {
   "cell_type": "markdown",
   "metadata": {},
   "source": [
    "### GridSearch CV on Random Forest"
   ]
  },
  {
   "cell_type": "code",
   "execution_count": 155,
   "metadata": {},
   "outputs": [
    {
     "data": {
      "text/plain": [
       "sklearn.model_selection._search.GridSearchCV"
      ]
     },
     "execution_count": 155,
     "metadata": {},
     "output_type": "execute_result"
    }
   ],
   "source": [
    "gs_cv_pipe = Pipeline(steps=[\n",
    "    ('col_trans', col_transformer),\n",
    "    ('rf', RandomForestRegressor())\n",
    "])\n",
    "\n",
    "GridSearchCV"
   ]
  },
  {
   "cell_type": "code",
   "execution_count": 156,
   "metadata": {},
   "outputs": [
    {
     "data": {
      "text/plain": [
       "GridSearchCV(estimator=Pipeline(steps=[('col_trans',\n",
       "                                        ColumnTransformer(transformers=[('num_trans',\n",
       "                                                                         Pipeline(steps=[('scaler',\n",
       "                                                                                          StandardScaler())]),\n",
       "                                                                         ['distance',\n",
       "                                                                          'weight']),\n",
       "                                                                        ('obj_trans',\n",
       "                                                                         Pipeline(steps=[('ohe',\n",
       "                                                                                          OneHotEncoder(drop='first'))]),\n",
       "                                                                         ['dayPart',\n",
       "                                                                          'originLocation',\n",
       "                                                                          'destinationLocation',\n",
       "                                                                          'carrier',\n",
       "                                                                          'month'])])),\n",
       "                                       ('rf', RandomForestRegressor())]),\n",
       "             param_grid={'rf__max_depth': [2, 5, 10],\n",
       "                         'rf__max_features': [1, 'auto', 'sqrt'],\n",
       "                         'rf__min_samples_leaf': [1, 2, 3, 4]})"
      ]
     },
     "execution_count": 156,
     "metadata": {},
     "output_type": "execute_result"
    }
   ],
   "source": [
    "param_grid = {\n",
    "    \"rf__max_depth\": [2,5,10],\n",
    "    \"rf__min_samples_leaf\":[1,2,3,4],\n",
    "    \"rf__max_features\" : [1, 'auto', 'sqrt']\n",
    "}\n",
    "gs = GridSearchCV(estimator=gs_cv_pipe, param_grid=param_grid)\n",
    "gs.fit(X_train, y_train)"
   ]
  },
  {
   "cell_type": "code",
   "execution_count": 157,
   "metadata": {},
   "outputs": [
    {
     "data": {
      "text/plain": [
       "{'rf__max_depth': 10, 'rf__max_features': 'auto', 'rf__min_samples_leaf': 4}"
      ]
     },
     "execution_count": 157,
     "metadata": {},
     "output_type": "execute_result"
    }
   ],
   "source": [
    "# Checking out the best parameters\n",
    "gs.best_params_"
   ]
  },
  {
   "cell_type": "code",
   "execution_count": 158,
   "metadata": {},
   "outputs": [
    {
     "data": {
      "text/plain": [
       "0.9978437471349496"
      ]
     },
     "execution_count": 158,
     "metadata": {},
     "output_type": "execute_result"
    }
   ],
   "source": [
    "# Checking out the best score\n",
    "gs.best_score_"
   ]
  },
  {
   "cell_type": "code",
   "execution_count": 159,
   "metadata": {},
   "outputs": [
    {
     "data": {
      "text/plain": [
       "Pipeline(steps=[('col_trans',\n",
       "                 ColumnTransformer(transformers=[('num_trans',\n",
       "                                                  Pipeline(steps=[('scaler',\n",
       "                                                                   StandardScaler())]),\n",
       "                                                  ['distance', 'weight']),\n",
       "                                                 ('obj_trans',\n",
       "                                                  Pipeline(steps=[('ohe',\n",
       "                                                                   OneHotEncoder(drop='first'))]),\n",
       "                                                  ['dayPart', 'originLocation',\n",
       "                                                   'destinationLocation',\n",
       "                                                   'carrier', 'month'])])),\n",
       "                ('rf',\n",
       "                 RandomForestRegressor(max_depth=10, min_samples_leaf=4))])"
      ]
     },
     "execution_count": 159,
     "metadata": {},
     "output_type": "execute_result"
    }
   ],
   "source": [
    "# Checking out the best estimator\n",
    "gs.best_estimator_"
   ]
  },
  {
   "cell_type": "code",
   "execution_count": null,
   "metadata": {},
   "outputs": [],
   "source": [
    "# Make predictions on the test set\n",
    "y_hat_train = gs.best_estimator_.predict(X_train)\n",
    "y_hat_test = gs.best_estimator_.predict(X_test)"
   ]
  },
  {
   "cell_type": "code",
   "execution_count": null,
   "metadata": {},
   "outputs": [],
   "source": [
    "print(f'Train R2: {r2_score(y_train, y_hat_train)}')\n",
    "print(f'Train RMSE: {mean_squared_error(y_train, y_hat_train, squared=False)}')\n",
    "print('-------------------')\n",
    "print(f'Test R2: {r2_score(y_test, y_hat_test)}')\n",
    "print(f'Test RMSE: {mean_squared_error(y_test, y_hat_test, squared=False)}')"
   ]
  },
  {
   "cell_type": "code",
   "execution_count": null,
   "metadata": {},
   "outputs": [],
   "source": [
    "print(gs_cv_pipe)"
   ]
  },
  {
   "cell_type": "code",
   "execution_count": null,
   "metadata": {},
   "outputs": [],
   "source": [
    "### 'Final' Model"
   ]
  },
  {
   "cell_type": "markdown",
   "metadata": {},
   "source": [
    "## Feature importance"
   ]
  },
  {
   "cell_type": "code",
   "execution_count": 161,
   "metadata": {},
   "outputs": [],
   "source": [
    "feat_names= gs.best_estimator_.named_steps['col_trans'].named_transformers_['obj_trans']['ohe'].get_feature_names()"
   ]
  },
  {
   "cell_type": "code",
   "execution_count": 162,
   "metadata": {},
   "outputs": [],
   "source": [
    "feat_imps = gs.best_estimator_.named_steps['rf'].feature_importances_"
   ]
  },
  {
   "cell_type": "code",
   "execution_count": 163,
   "metadata": {},
   "outputs": [],
   "source": [
    "features = dict(zip(feat_names, feat_imps))"
   ]
  },
  {
   "cell_type": "code",
   "execution_count": 164,
   "metadata": {},
   "outputs": [
    {
     "data": {
      "text/plain": [
       "{'x4_12': 2.100990481864609e-07,\n",
       " 'x4_7': 5.238423032669411e-07,\n",
       " 'x4_10': 9.89859984550893e-07,\n",
       " 'x2_D3': 1.1254224195064643e-06,\n",
       " 'x4_6': 1.5659772414940534e-06,\n",
       " 'x4_11': 1.7671891415834203e-06,\n",
       " 'x1_S5': 2.0971151796991866e-06,\n",
       " 'x4_8': 2.2159038269275366e-06,\n",
       " 'x4_5': 3.074346585316772e-06,\n",
       " 'x4_4': 3.1987809443672943e-06,\n",
       " 'x1_S6': 3.3942959006561005e-06,\n",
       " 'x2_D8': 4.055314160290133e-06,\n",
       " 'x1_S9': 5.2630288660281416e-06,\n",
       " 'x2_D4': 6.887966635490333e-06,\n",
       " 'x2_D5': 6.902504688178701e-06,\n",
       " 'x1_S4': 7.697171796056225e-06,\n",
       " 'x1_S8': 7.727447218753906e-06,\n",
       " 'x2_D9': 8.639012594123759e-06,\n",
       " 'x3_C': 8.980144345117938e-06,\n",
       " 'x2_D7': 1.0615387351238898e-05,\n",
       " 'x4_9': 1.0734857074257668e-05,\n",
       " 'x1_S7': 1.1553444672724004e-05,\n",
       " 'x2_D2': 1.4145283860612098e-05,\n",
       " 'x2_D6': 1.738218546446945e-05,\n",
       " 'x3_B': 1.983215856006913e-05,\n",
       " 'x1_S3': 4.428790362162687e-05,\n",
       " 'x3_D': 0.0001009809421748384,\n",
       " 'x0_night': 0.0005376858959014309,\n",
       " 'x4_2': 0.036353862689476844,\n",
       " 'x4_3': 0.04466478864616702,\n",
       " 'x1_S2': 0.9181255690262927}"
      ]
     },
     "execution_count": 164,
     "metadata": {},
     "output_type": "execute_result"
    }
   ],
   "source": [
    "{k:v for k,v in sorted(features.items(), key=lambda x: x[1])}"
   ]
  },
  {
   "cell_type": "code",
   "execution_count": 165,
   "metadata": {},
   "outputs": [
    {
     "data": {
      "text/plain": [
       "['dayPart',\n",
       " 'originLocation',\n",
       " 'destinationLocation',\n",
       " 'distance',\n",
       " 'weight',\n",
       " 'carrier',\n",
       " 'month']"
      ]
     },
     "execution_count": 165,
     "metadata": {},
     "output_type": "execute_result"
    }
   ],
   "source": [
    "X_cols"
   ]
  },
  {
   "cell_type": "markdown",
   "metadata": {},
   "source": [
    "### Important features\n",
    "- Time of Day\n",
    "    - day \n",
    "    - night\n",
    "- Origin Location / Destination Location\n",
    "- Weight"
   ]
  },
  {
   "cell_type": "markdown",
   "metadata": {},
   "source": [
    "## Exploring results on test set "
   ]
  },
  {
   "cell_type": "code",
   "execution_count": 166,
   "metadata": {},
   "outputs": [],
   "source": [
    "test_df = pd.read_csv('../data/test.csv', parse_dates=['date'])"
   ]
  },
  {
   "cell_type": "code",
   "execution_count": 167,
   "metadata": {},
   "outputs": [
    {
     "data": {
      "text/html": [
       "<div>\n",
       "<style scoped>\n",
       "    .dataframe tbody tr th:only-of-type {\n",
       "        vertical-align: middle;\n",
       "    }\n",
       "\n",
       "    .dataframe tbody tr th {\n",
       "        vertical-align: top;\n",
       "    }\n",
       "\n",
       "    .dataframe thead th {\n",
       "        text-align: right;\n",
       "    }\n",
       "</style>\n",
       "<table border=\"1\" class=\"dataframe\">\n",
       "  <thead>\n",
       "    <tr style=\"text-align: right;\">\n",
       "      <th></th>\n",
       "      <th>trip</th>\n",
       "      <th>date</th>\n",
       "      <th>dayPart</th>\n",
       "      <th>exWeatherTag</th>\n",
       "      <th>originLocation</th>\n",
       "      <th>destinationLocation</th>\n",
       "      <th>distance</th>\n",
       "      <th>type</th>\n",
       "      <th>weight</th>\n",
       "      <th>packageType</th>\n",
       "      <th>carrier</th>\n",
       "    </tr>\n",
       "  </thead>\n",
       "  <tbody>\n",
       "    <tr>\n",
       "      <th>0</th>\n",
       "      <td>t333282728025</td>\n",
       "      <td>2017-09-27</td>\n",
       "      <td>night</td>\n",
       "      <td>NaN</td>\n",
       "      <td>S2</td>\n",
       "      <td>D8</td>\n",
       "      <td>2000</td>\n",
       "      <td>NaN</td>\n",
       "      <td>50</td>\n",
       "      <td>NaN</td>\n",
       "      <td>C</td>\n",
       "    </tr>\n",
       "    <tr>\n",
       "      <th>1</th>\n",
       "      <td>t35583500660</td>\n",
       "      <td>2017-12-12</td>\n",
       "      <td>day</td>\n",
       "      <td>snow</td>\n",
       "      <td>S2</td>\n",
       "      <td>D1</td>\n",
       "      <td>600</td>\n",
       "      <td>NaN</td>\n",
       "      <td>22</td>\n",
       "      <td>NaN</td>\n",
       "      <td>A</td>\n",
       "    </tr>\n",
       "    <tr>\n",
       "      <th>2</th>\n",
       "      <td>t117664376784</td>\n",
       "      <td>2018-11-18</td>\n",
       "      <td>day</td>\n",
       "      <td>NaN</td>\n",
       "      <td>S7</td>\n",
       "      <td>D1</td>\n",
       "      <td>1600</td>\n",
       "      <td>expedited</td>\n",
       "      <td>30</td>\n",
       "      <td>NaN</td>\n",
       "      <td>D</td>\n",
       "    </tr>\n",
       "    <tr>\n",
       "      <th>3</th>\n",
       "      <td>t261320757828</td>\n",
       "      <td>2019-11-18</td>\n",
       "      <td>day</td>\n",
       "      <td>NaN</td>\n",
       "      <td>S5</td>\n",
       "      <td>D6</td>\n",
       "      <td>2200</td>\n",
       "      <td>NaN</td>\n",
       "      <td>32</td>\n",
       "      <td>NaN</td>\n",
       "      <td>B</td>\n",
       "    </tr>\n",
       "    <tr>\n",
       "      <th>4</th>\n",
       "      <td>t147086054909</td>\n",
       "      <td>2019-06-02</td>\n",
       "      <td>night</td>\n",
       "      <td>heat</td>\n",
       "      <td>S6</td>\n",
       "      <td>D7</td>\n",
       "      <td>2600</td>\n",
       "      <td>NaN</td>\n",
       "      <td>7</td>\n",
       "      <td>NaN</td>\n",
       "      <td>B</td>\n",
       "    </tr>\n",
       "  </tbody>\n",
       "</table>\n",
       "</div>"
      ],
      "text/plain": [
       "            trip       date dayPart exWeatherTag originLocation  \\\n",
       "0  t333282728025 2017-09-27   night          NaN             S2   \n",
       "1   t35583500660 2017-12-12     day         snow             S2   \n",
       "2  t117664376784 2018-11-18     day          NaN             S7   \n",
       "3  t261320757828 2019-11-18     day          NaN             S5   \n",
       "4  t147086054909 2019-06-02   night         heat             S6   \n",
       "\n",
       "  destinationLocation  distance       type  weight packageType carrier  \n",
       "0                  D8      2000        NaN      50         NaN       C  \n",
       "1                  D1       600        NaN      22         NaN       A  \n",
       "2                  D1      1600  expedited      30         NaN       D  \n",
       "3                  D6      2200        NaN      32         NaN       B  \n",
       "4                  D7      2600        NaN       7         NaN       B  "
      ]
     },
     "execution_count": 167,
     "metadata": {},
     "output_type": "execute_result"
    }
   ],
   "source": [
    "test_df.head()"
   ]
  },
  {
   "cell_type": "code",
   "execution_count": 168,
   "metadata": {},
   "outputs": [],
   "source": [
    "test_df['month'] = test_df['date'].dt.month"
   ]
  },
  {
   "cell_type": "code",
   "execution_count": 169,
   "metadata": {},
   "outputs": [],
   "source": [
    "true_test_preds = gs.best_estimator_.predict(test_df[X_cols])"
   ]
  },
  {
   "cell_type": "code",
   "execution_count": 170,
   "metadata": {},
   "outputs": [
    {
     "data": {
      "text/plain": [
       "array([  60.6054371 ,   30.78735838,   62.87434638,   70.01843824,\n",
       "         33.29175251,   38.94947688,    9.22901491,   29.9864669 ,\n",
       "         74.52907034,   44.48978916,   52.15442588,   29.9864669 ,\n",
       "         74.52907034,   12.89953506,   47.16972356,   71.79101356,\n",
       "        668.16506979,   45.50247495,   71.20988084,   41.62600383,\n",
       "         74.52907034,   62.98614313,   24.79617013,   38.30696876,\n",
       "         40.32143639,    8.77828384,   67.08658851,   22.93602829,\n",
       "         21.30839639,   34.47936134,   88.40219843,   46.8505836 ,\n",
       "         34.47936134, 1182.34146421,   33.29175251,    9.35206525,\n",
       "         46.8505836 ,   46.1071236 ,   47.16972356,   62.91701531,\n",
       "         75.34759888,   50.01301668,  175.67828171,   73.57836339,\n",
       "         74.52907034,   75.33815147,   73.59976801,  329.94494312,\n",
       "         70.50972544,   47.16268676,   60.52464757,   75.35568832,\n",
       "         36.23997605,   70.50972544,   40.32143639,   70.39924089,\n",
       "         41.11785936,   45.50247495,    7.59107648,   70.00902553,\n",
       "         71.64273099,   38.94947688,   71.2187361 ,   66.81425121,\n",
       "         46.1071236 ,   38.94947688,   42.78782771,   27.8481409 ,\n",
       "         39.84508253,   70.01074654,   74.52907034,   45.50247495,\n",
       "         29.9864669 ,   50.64078034,   72.99911755,   12.63136964,\n",
       "         44.48978916,   70.01750349,   29.9864669 ,   46.8435468 ,\n",
       "         63.11168048,  524.47237108,  165.16868743,   46.1071236 ,\n",
       "         46.1071236 ,   70.00902553,   36.23997605,   38.94947688,\n",
       "         45.50247495,   35.8395778 ,   74.48240369,   43.12547722,\n",
       "         41.62600383,   71.97590215,   14.55720676,   71.960898  ,\n",
       "        442.88084384,   27.84462987,   39.84508253,   62.86642486,\n",
       "         67.14619642,   38.30696876,   37.66472564,   42.78782771,\n",
       "         74.48978553,   71.79101356,   47.16268676,   74.48978553,\n",
       "         75.28198056,   73.64329804,   42.78782771,   70.01578247,\n",
       "         27.11177124,   29.9864669 ,   72.86464878,   42.09795769,\n",
       "         42.78782771,   21.30839639,   27.8481409 ,   67.08658851,\n",
       "         27.03604616,   73.6720756 ,    9.37535625,   70.50972544,\n",
       "         40.32143639,  101.96038699, 1870.00444836,   49.85784113,\n",
       "         60.56140272,   42.09795769,   45.73247355,   24.81472236,\n",
       "         46.1071236 ,   46.1071236 ,   38.94947688,   75.34624092,\n",
       "       1108.39627337,   45.73247355,   70.01578247,   44.87653085,\n",
       "         43.12547722,   42.78782771,   72.88685445,   74.52907034,\n",
       "         39.84508253,   46.8505836 ,   73.66550371,   41.62600383,\n",
       "         73.59976801,   36.23997605,   33.29175251,   27.8481409 ,\n",
       "         31.4507468 ,   71.97590215,   46.43719462,   12.83805135,\n",
       "         46.8435468 ,   70.50972544,   41.11785936,   39.84508253,\n",
       "         36.23997605,   45.50247495,   71.960898  ,   27.8481409 ,\n",
       "         63.08076231,   41.62600383,   27.10254209,   67.9800042 ,\n",
       "         12.80146667,   44.48978916,   33.29175251,   39.84508253,\n",
       "        716.85777746,   44.48978916,   72.88685445,   44.48978916,\n",
       "         70.00902553,   43.77973635,   71.95265164,   41.11785936,\n",
       "         74.48240369,   43.12547722,   70.00902553,   62.95166922,\n",
       "         38.30696876,   70.00809077,   44.48978916,   34.47936134,\n",
       "         34.47936134,   63.14233924,   27.84462987,   74.38514615,\n",
       "         45.50247495,   74.52907034,   12.48738643,   41.62600383,\n",
       "         31.84401321,   46.43719462,   71.76798968,   29.9864669 ,\n",
       "         43.12547722,    9.23562104,   71.19767024,   52.39344753,\n",
       "         38.30696876,   95.2446052 ,   46.43719462,    9.41979878,\n",
       "         60.57910844,   63.00278775,   69.7691862 ,   69.7691862 ,\n",
       "         25.88187948,   71.20988084,   39.84508253,   47.16972356,\n",
       "         70.50972544,   35.8395778 ,   45.50247495,   42.09795769,\n",
       "        175.5493605 ,   27.8481409 ,   72.87202172,   42.09795769,\n",
       "         73.57099045,   38.30696876,   60.57531653,   75.34624092,\n",
       "         47.16972356,   44.87653085,    9.34786968,   62.95941745,\n",
       "         72.97033999,   73.57099045,   46.44423143,   63.16266327,\n",
       "         73.59976801,   38.30696876, 1892.70122445,   74.52907034,\n",
       "         47.16268676,  132.78446179,   52.15442588,   27.8481409 ,\n",
       "         31.84401321,  548.89435533,   71.64273099,   45.50247495,\n",
       "         71.97590215,   50.64078034,   38.94947688,   12.4154303 ,\n",
       "         71.64273099,   14.53163925, 1589.5755137 ,   74.48978553,\n",
       "         39.84508253,   29.9864669 ,   71.2187361 ,   12.90292665,\n",
       "         71.76776304,   73.59976801,   45.73247355,   37.66472564,\n",
       "         42.78782771,   37.66472564,   74.48240369,   39.84508253,\n",
       "         19.58840513,   35.8395778 ,   74.38514615,   70.00902553,\n",
       "         73.64329804,   36.23997605,   37.66472564,   25.88187948,\n",
       "         12.48438663,   70.01578247,   33.29175251,   67.08658851,\n",
       "         45.73247355,   44.21888244,   44.21888244,   74.52907034,\n",
       "          9.36172727,   43.12547722,   73.64329804,   44.48978916,\n",
       "         42.78782771,   47.16972356,   45.73247355,   38.30696876,\n",
       "         34.47936134,  129.67975677,  201.25190242,   45.73247355,\n",
       "          9.37011969,   71.62772683,   62.85480706,   37.66472564,\n",
       "         39.84508253,   46.44423143,   72.97033999,   27.8481409 ,\n",
       "         45.73247355,   32.89738333,  965.62510769,   60.81242489,\n",
       "         71.64273099,   71.2187361 ,   73.83667921,   41.62600383,\n",
       "         27.8481409 ,   46.1071236 ,   29.47706872,   44.87653085,\n",
       "         70.55308006,   42.09795769,   14.73355151,   47.16972356,\n",
       "         63.79732758,   91.80524773,   47.16972356,   44.48978916,\n",
       "         14.21174401,   35.8395778 ,   44.21888244,   71.97590215,\n",
       "         63.39097856,   14.47974731,   38.30696876,   12.7964373 ,\n",
       "         41.11785936,   71.61948047,   75.34624092,   40.32143639,\n",
       "         32.15267782,   63.2966874 ,   80.10284193,    9.42114263,\n",
       "         44.21888244,   46.44423143,   36.23997605,    9.6530893 ,\n",
       "         40.32143639,   44.87653085,   53.60886563,   38.30696876,\n",
       "         71.79101356,  108.69072874,   42.78782771,   62.99522758,\n",
       "         36.23997605,   44.48978916,   27.83828778,   43.77973635,\n",
       "         31.19934476,   71.62772683,   46.44423143,   43.12547722,\n",
       "         38.94947688,   47.16268676,   33.29175251,   69.46062244,\n",
       "         47.16972356,   34.47936134,   33.29175251,  279.03128004,\n",
       "         63.52083098,  104.85443516,   46.43719462,   36.23997605,\n",
       "         71.62772683,   71.2289166 , 1411.90023815,   75.30919792,\n",
       "         70.39924089,   73.57099045,   71.79101356,   44.21888244,\n",
       "         44.21888244,   36.23997605,   70.01578247,   70.00902553,\n",
       "         12.81034373,   44.87653085,   44.21888244,   71.96765579,\n",
       "         29.9864669 ,   70.39924089,   71.79101356,   35.8395778 ,\n",
       "         31.84401321,   74.48240369,   46.1071236 ,   29.9864669 ,\n",
       "         42.78782771,   69.46062244,   70.00774829,   46.44423143,\n",
       "         44.48978916,   14.73725691,   37.66472564,   70.50972544,\n",
       "         46.8505836 ,   29.9864669 ,   63.44001   ,   29.75491664,\n",
       "         42.09795769,   45.50247495,   12.77413118,   47.16268676,\n",
       "         73.6720756 ,   70.50972544,   27.83828778,   47.16972356,\n",
       "         67.08658851,   46.1071236 ,   33.29175251,   74.48240369,\n",
       "         52.39344753,   75.80607959,   27.83828778,   75.33815147,\n",
       "         70.00809077,   60.56140272,   21.30839639,   39.84508253,\n",
       "         37.66472564,   74.48240369,   73.6720756 ,  296.53944746,\n",
       "         31.84401321,   70.50972544,   44.48978916,   74.52907034,\n",
       "         31.22108587,   63.55475717,   25.71922208,   70.01578247,\n",
       "         62.50317972,   46.8435468 ,   63.02313799,   73.6720756 ,\n",
       "         31.84401321,   46.1071236 ,   74.48240369,    8.82092365,\n",
       "         38.94947688,   29.9864669 ,   63.13687349,   50.63895061,\n",
       "         41.11785936,   90.79133027,   74.52907034,   44.48978916,\n",
       "         39.84508253,   27.83828778,   29.9864669 ,   71.20988084,\n",
       "         71.96369155,   31.84401321,   46.44423143,   41.11785936,\n",
       "        488.78837591,   12.56729421,   34.47936134,   47.16972356,\n",
       "         41.11785936,  297.83112866,   44.48978916,   63.60254884,\n",
       "         34.47936134,   75.33815147,   75.34759888,   74.48240369,\n",
       "         27.1193233 ,   63.22381906,  152.37254985,   12.51860724,\n",
       "         44.21888244,   50.06918705,   43.12547722,   73.64329804,\n",
       "         46.1071236 ,   72.97771293,   27.83828778,   33.29175251,\n",
       "         45.73247355,   71.7760094 ,   47.16972356,   63.11213213,\n",
       "         36.23997605,   34.47936134,   35.8395778 ,   38.94947688,\n",
       "         33.29175251,   46.8435468 ,   45.73247355,   41.62600383,\n",
       "         42.78782771,   30.51649906,   30.77289653,   50.02139661,\n",
       "         30.51149248,   44.87653085,   46.1071236 ,   51.19489462,\n",
       "         47.16268676,   44.21888244,   46.44423143,   14.72368104,\n",
       "         31.84401321,   60.58952807,   43.12547722,   43.77973635,\n",
       "         31.84401321,   27.03470327,   70.60368408,   74.52907034,\n",
       "         71.64273099,    9.05122667,   62.91012899,   37.66472564,\n",
       "        972.29766665,   27.11177124,   27.66422119,   75.35568832,\n",
       "         41.11785936,   29.7829769 ,  267.92491506,   34.47936134,\n",
       "         46.1071236 ,   74.48978553,   70.60368408,   42.09795769,\n",
       "         72.97033999,   41.11785936,   70.00902553,   74.48240369,\n",
       "         38.94947688,   74.38514615,   38.94947688,  140.7254642 ,\n",
       "         38.94947688,   41.11785936,   52.49546117,   60.58847608,\n",
       "         46.1071236 ,   47.16268676,   37.66472564,   70.39924089,\n",
       "        872.65298896,   38.30696876,   41.62600383,   12.58904724,\n",
       "         38.30696876,  478.13023557,   63.08128128,   43.12547722,\n",
       "         35.8395778 ,   75.32516665,   14.41713122,   44.21888244,\n",
       "         44.21888244,   74.48978553,   63.24599887,   36.23997605,\n",
       "         43.12547722,   41.62600383,   63.11902764,   34.47936134,\n",
       "         37.66472564,  129.75920474,   69.46062244,   71.64273099,\n",
       "         38.30696876,   73.57099045,   69.46062244,   63.01074041,\n",
       "         47.16972356,   68.51562405,   71.2187361 ,   38.94947688,\n",
       "         71.62772683,   44.48978916,   35.8395778 ,   74.48978553,\n",
       "         29.9864669 ,   73.6720756 ,   74.48240369,   38.94947688,\n",
       "        174.93946442,   74.48240369,   75.33815147,   35.8395778 ,\n",
       "         70.50972544,   45.50247495,   74.48978553,   37.66472564,\n",
       "         72.99911755,   44.21888244,   44.21888244,   33.29175251,\n",
       "         73.64329804,   74.48240369,   38.94947688,   41.62600383,\n",
       "         40.32143639,   35.8395778 ,   36.23997605,    5.24543249,\n",
       "        831.37379955,   38.30696876,   62.85656913,   47.16972356,\n",
       "          9.37685425,   38.94947688,   71.64273099,   46.1071236 ,\n",
       "         36.23997605,   37.66472564,   14.5840101 ,   42.09795769,\n",
       "         29.9864669 ,   74.52907034,   46.1071236 ,   34.47936134,\n",
       "         52.42703688,   28.47269611,   14.51346259,   42.78782771,\n",
       "        653.61754479,   75.33815147, 1314.07507789,   45.50247495,\n",
       "         38.30696876,   67.08658851,   41.62600383,   63.24467947,\n",
       "         42.09795769, 1184.45345442,   43.77973635,   70.50972544,\n",
       "         27.03400717,   47.16268676,   60.47130745,   29.9864669 ,\n",
       "         25.71922208,   42.78782771,   34.47936134,   75.34759888,\n",
       "         27.8481409 ,   72.87202172,   63.10900412,   73.57099045,\n",
       "         36.23997605,   63.16247963,   42.78782771,   74.38514615,\n",
       "         33.29175251,   74.48978553,   29.9864669 ,   46.44423143,\n",
       "         33.29175251,   40.32143639,   44.87653085,   39.84508253,\n",
       "         41.11785936,   44.21888244,   41.62600383,   38.94947688,\n",
       "         44.87653085,  945.19851426,   72.86464878,   39.84508253,\n",
       "         46.44423143,   74.52907034,   29.9864669 ,   71.2187361 ,\n",
       "         53.12887565,   45.73247355,   70.39924089,    9.54668855,\n",
       "         34.47936134,   38.30696876,   79.78496651,   62.59926375,\n",
       "         44.21888244,   27.1100305 ,   38.30696876,   73.64329804,\n",
       "        140.46545318,   62.92800818,   39.84508253,   38.94947688,\n",
       "         74.52907034,   33.29175251,   63.03659213,   31.84401321,\n",
       "         62.69247185,   37.66472564,   41.11785936,   71.20988084,\n",
       "         38.94947688,   31.84401321,   60.81242489,   70.01074654,\n",
       "         41.11785936,   74.38514615,   34.47936134,   73.66550371,\n",
       "        556.72513482,   31.47415571,   71.96508888,   70.17501344,\n",
       "         74.48978553,   74.48240369,  536.42794509,   71.64273099,\n",
       "         62.98653779,   72.97033999,   34.47936134,  851.58418614,\n",
       "         71.97590215,   27.83066989,   50.58865003,   70.00902553,\n",
       "         39.84508253,   40.32143639,   29.9864669 ,   31.84401321,\n",
       "         29.9864669 ,   52.20493063,   71.61948047,   40.32143639,\n",
       "         42.78782771,   45.73247355,   45.73247355,   44.48978916,\n",
       "         45.50247495,   63.22360991,   42.09795769,   47.16972356,\n",
       "         14.54252149,   12.81367826,   43.77973635,   42.78782771,\n",
       "         27.8481409 ,   72.87202172,   46.8505836 ,   39.84508253,\n",
       "         70.60368408,   60.57531653,   44.87653085,   74.52907034,\n",
       "         71.97590215,   37.66472564,   40.32143639,   71.960898  ,\n",
       "         29.9864669 ,   46.8435468 ,   62.95408764,   14.73884865,\n",
       "         46.1071236 ,   12.80147697,   43.77973635,   36.23997605,\n",
       "         75.40930555,   71.960898  ,    7.57398207,   72.97771293,\n",
       "         42.78782771,   74.38514615,   63.14452262,   25.87114881,\n",
       "         70.39924089,   29.9864669 ,   63.01496879,   71.64273099,\n",
       "         60.56140272,   47.16268676,  431.35640469,   71.65291149,\n",
       "          8.77206767,   70.50972544,   30.79614112,    9.40179752,\n",
       "         47.16268676,   70.50972544,   46.8505836 ,   14.72400508,\n",
       "         62.58352601,   39.84508253,   71.960898  ,   40.32143639,\n",
       "         46.44423143, 1770.8487551 ,   38.30696876,   35.8395778 ,\n",
       "         62.62192575, 1230.35979839])"
      ]
     },
     "execution_count": 170,
     "metadata": {},
     "output_type": "execute_result"
    }
   ],
   "source": [
    "true_test_preds"
   ]
  },
  {
   "cell_type": "code",
   "execution_count": 171,
   "metadata": {},
   "outputs": [
    {
     "data": {
      "text/plain": [
       "<AxesSubplot:>"
      ]
     },
     "execution_count": 171,
     "metadata": {},
     "output_type": "execute_result"
    },
    {
     "data": {
      "image/png": "[encoded data removed]",
      "text/plain": [
       "<Figure size 432x288 with 1 Axes>"
      ]
     },
     "metadata": {
      "needs_background": "light"
     },
     "output_type": "display_data"
    }
   ],
   "source": [
    "pd.Series(y_hat_train).hist()"
   ]
  },
  {
   "cell_type": "code",
   "execution_count": 172,
   "metadata": {},
   "outputs": [
    {
     "data": {
      "text/plain": [
       "<AxesSubplot:>"
      ]
     },
     "execution_count": 172,
     "metadata": {},
     "output_type": "execute_result"
    },
    {
     "data": {
      "image/png": "[encoded data removed]",
      "text/plain": [
       "<Figure size 432x288 with 1 Axes>"
      ]
     },
     "metadata": {
      "needs_background": "light"
     },
     "output_type": "display_data"
    }
   ],
   "source": [
    "pd.Series(y_hat_test).hist()"
   ]
  },
  {
   "cell_type": "code",
   "execution_count": 173,
   "metadata": {},
   "outputs": [
    {
     "data": {
      "text/plain": [
       "<AxesSubplot:>"
      ]
     },
     "execution_count": 173,
     "metadata": {},
     "output_type": "execute_result"
    },
    {
     "data": {
      "image/png": "[encoded data removed]",
      "text/plain": [
       "<Figure size 432x288 with 1 Axes>"
      ]
     },
     "metadata": {
      "needs_background": "light"
     },
     "output_type": "display_data"
    }
   ],
   "source": [
    "pd.Series(true_test_preds).hist()"
   ]
  },
  {
   "cell_type": "markdown",
   "metadata": {},
   "source": [
    "### Evaluation \n",
    "- Accounting for 99% of cost "
   ]
  },
  {
   "cell_type": "markdown",
   "metadata": {},
   "source": [
    "## Box Plot "
   ]
  },
  {
   "cell_type": "code",
   "execution_count": 174,
   "metadata": {},
   "outputs": [
    {
     "data": {
      "text/plain": [
       "Text(0.5, 1.0, 'Cost each month')"
      ]
     },
     "execution_count": 174,
     "metadata": {},
     "output_type": "execute_result"
    },
    {
     "data": {
      "image/png": "[encoded data removed]",
      "text/plain": [
       "<Figure size 720x2880 with 1 Axes>"
      ]
     },
     "metadata": {
      "needs_background": "light"
     },
     "output_type": "display_data"
    }
   ],
   "source": [
    "plt.figure(figsize=(10, 40))\n",
    "sns.boxplot(x=\"month\", \n",
    "            y=\"cost\", \n",
    "            data=clean_df)\n",
    "plt.ylabel(\"Cost\", size=14)\n",
    "plt.xlabel(\"Month\", size=14)\n",
    "plt.title(\"Cost each month\")"
   ]
  },
  {
   "cell_type": "markdown",
   "metadata": {},
   "source": [
    "## Conclusion\n",
    "\n",
    "- What would you recommend the business do as a result of this work?\n",
    "    - Optimizing time of day\n",
    "    - Optimizing origin & destination location \n",
    "    - Shipments with least weight \n",
    "- What are some reasons why your analysis might not fully solve the business problem?\n",
    "    - Outliers in data \n",
    "- What else could you do in the future to improve this project (future work)?\n",
    "    - Dealing with outliers\n",
    "    - Predicting costs for each month\n",
    "    - Expected freight cost in a year"
   ]
  },
  {
   "cell_type": "code",
   "execution_count": null,
   "metadata": {},
   "outputs": [],
   "source": []
  }
 ],
 "metadata": {
  "kernelspec": {
   "display_name": "Python (learn-env)",
   "language": "python",
   "name": "learn-env"
  },
  "language_info": {
   "codemirror_mode": {
    "name": "ipython",
    "version": 3
   },
   "file_extension": ".py",
   "mimetype": "text/x-python",
   "name": "python",
   "nbconvert_exporter": "python",
   "pygments_lexer": "ipython3",
   "version": "3.8.5"
  }
 },
 "nbformat": 4,
 "nbformat_minor": 4
}
